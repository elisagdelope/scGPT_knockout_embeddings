{
  "nbformat": 4,
  "nbformat_minor": 0,
  "metadata": {
    "colab": {
      "provenance": [],
      "collapsed_sections": [
        "YWX_hHEZlecd",
        "hCHRvy1FlmN7",
        "BC68aqjgJZbP"
      ],
      "gpuType": "T4"
    },
    "kernelspec": {
      "name": "python3",
      "display_name": "Python 3"
    },
    "language_info": {
      "name": "python"
    },
    "accelerator": "GPU"
  },
  "cells": [
    {
      "cell_type": "markdown",
      "source": [
        "## Introduction\n"
      ],
      "metadata": {
        "id": "3hd37DPBWcuX"
      }
    },
    {
      "cell_type": "markdown",
      "source": [
        "*Objective: Create a function to analyze the effect of gene knockouts on single-cell gene expression data using pre-trained foundation models. Compare embeddings before and after knockout and classify the samples.*"
      ],
      "metadata": {
        "id": "mHEcka0hJT9k"
      }
    },
    {
      "cell_type": "markdown",
      "source": [
        "In this notebook, I analyze the effect of gene knockouts on single-cell gene expression data using pre-trained foundation models. I will:\n",
        "- Perturb genes in the dataset.\n",
        "- Generate embeddings for the original and perturbed data.\n",
        "- Compare and visualize these embeddings.\n",
        "- Build a classifier to distinguish between perturbed and unperturbed samples.\n",
        "\n",
        "\n",
        "This tutorial is made to run with GPU support if available (CPU otherwise), and can be used in Google colab. If you'd like to open this notebook in colab, you can use the following link. [![Open In Colab](https://colab.research.google.com/assets/colab-badge.svg)](https://colab.research.google.com/github/elisagdelope/scGPT_knockout_embeddings/blob/main/scGPT_knockout_embeddings.ipynb)"
      ],
      "metadata": {
        "id": "ltzX5VWpXmZy"
      }
    },
    {
      "cell_type": "markdown",
      "source": [
        "## Setup"
      ],
      "metadata": {
        "id": "YWX_hHEZlecd"
      }
    },
    {
      "cell_type": "code",
      "source": [
        "try:\n",
        "    import helical\n",
        "except:\n",
        "    !pip install git+https://github.com/helicalAI/helical.git |tail -n 1\n",
        "    !pip install numpy==1.23.5\n",
        "    import helical"
      ],
      "metadata": {
        "colab": {
          "base_uri": "https://localhost:8080/"
        },
        "id": "Vwh2y24PNgDz",
        "outputId": "5aa99485-2935-411f-d74d-f482462324df"
      },
      "execution_count": 1,
      "outputs": [
        {
          "output_type": "stream",
          "name": "stderr",
          "text": [
            "<frozen importlib._bootstrap>:914: ImportWarning: _PyDrive2ImportHook.find_spec() not found; falling back to find_module()\n",
            "<frozen importlib._bootstrap>:914: ImportWarning: _PyDriveImportHook.find_spec() not found; falling back to find_module()\n",
            "<frozen importlib._bootstrap>:914: ImportWarning: _GenerativeAIImportHook.find_spec() not found; falling back to find_module()\n",
            "<frozen importlib._bootstrap>:914: ImportWarning: _OpenCVImportHook.find_spec() not found; falling back to find_module()\n",
            "<frozen importlib._bootstrap>:914: ImportWarning: APICoreClientInfoImportHook.find_spec() not found; falling back to find_module()\n",
            "<frozen importlib._bootstrap>:914: ImportWarning: _BokehImportHook.find_spec() not found; falling back to find_module()\n",
            "<frozen importlib._bootstrap>:914: ImportWarning: _AltairImportHook.find_spec() not found; falling back to find_module()\n",
            "/usr/local/lib/python3.10/dist-packages/helical/models/scgpt/model_dir/multiomic_model.py:19: UserWarning: flash_attn is not installed\n",
            "  warnings.warn(\"flash_attn is not installed\")\n"
          ]
        }
      ]
    },
    {
      "cell_type": "code",
      "source": [
        "!pip install anndata torch transformers"
      ],
      "metadata": {
        "colab": {
          "base_uri": "https://localhost:8080/"
        },
        "id": "1oXvCa8wKfh-",
        "outputId": "6d5ee421-4fcf-4c2c-af26-8c244c656e88"
      },
      "execution_count": 2,
      "outputs": [
        {
          "output_type": "stream",
          "name": "stderr",
          "text": [
            "/usr/local/lib/python3.10/dist-packages/ipykernel/ipkernel.py:283: DeprecationWarning: `should_run_async` will not call `transform_cell` automatically in the future. Please pass the result to `transformed_cell` argument and any exception that happen during thetransform in `preprocessing_exc_tuple` in IPython 7.17 and above.\n",
            "  and should_run_async(code)\n"
          ]
        },
        {
          "output_type": "stream",
          "name": "stdout",
          "text": [
            "Requirement already satisfied: anndata in /usr/local/lib/python3.10/dist-packages (0.10.7)\n",
            "Requirement already satisfied: torch in /usr/local/lib/python3.10/dist-packages (2.3.0)\n",
            "Requirement already satisfied: transformers in /usr/local/lib/python3.10/dist-packages (4.26.1)\n",
            "Requirement already satisfied: array-api-compat!=1.5,>1.4 in /usr/local/lib/python3.10/dist-packages (from anndata) (1.8)\n",
            "Requirement already satisfied: exceptiongroup in /usr/local/lib/python3.10/dist-packages (from anndata) (1.2.2)\n",
            "Requirement already satisfied: h5py>=3.1 in /usr/local/lib/python3.10/dist-packages (from anndata) (3.11.0)\n",
            "Requirement already satisfied: natsort in /usr/local/lib/python3.10/dist-packages (from anndata) (8.4.0)\n",
            "Requirement already satisfied: numpy>=1.23 in /usr/local/lib/python3.10/dist-packages (from anndata) (1.23.5)\n",
            "Requirement already satisfied: packaging>=20.0 in /usr/local/lib/python3.10/dist-packages (from anndata) (24.1)\n",
            "Requirement already satisfied: pandas!=2.1.0rc0,!=2.1.2,>=1.4 in /usr/local/lib/python3.10/dist-packages (from anndata) (2.2.2)\n",
            "Requirement already satisfied: scipy>1.8 in /usr/local/lib/python3.10/dist-packages (from anndata) (1.13.1)\n",
            "Requirement already satisfied: filelock in /usr/local/lib/python3.10/dist-packages (from torch) (3.15.4)\n",
            "Requirement already satisfied: typing-extensions>=4.8.0 in /usr/local/lib/python3.10/dist-packages (from torch) (4.12.2)\n",
            "Requirement already satisfied: sympy in /usr/local/lib/python3.10/dist-packages (from torch) (1.13.1)\n",
            "Requirement already satisfied: networkx in /usr/local/lib/python3.10/dist-packages (from torch) (3.3)\n",
            "Requirement already satisfied: jinja2 in /usr/local/lib/python3.10/dist-packages (from torch) (3.1.4)\n",
            "Requirement already satisfied: fsspec in /usr/local/lib/python3.10/dist-packages (from torch) (2023.10.0)\n",
            "Requirement already satisfied: nvidia-cuda-nvrtc-cu12==12.1.105 in /usr/local/lib/python3.10/dist-packages (from torch) (12.1.105)\n",
            "Requirement already satisfied: nvidia-cuda-runtime-cu12==12.1.105 in /usr/local/lib/python3.10/dist-packages (from torch) (12.1.105)\n",
            "Requirement already satisfied: nvidia-cuda-cupti-cu12==12.1.105 in /usr/local/lib/python3.10/dist-packages (from torch) (12.1.105)\n",
            "Requirement already satisfied: nvidia-cudnn-cu12==8.9.2.26 in /usr/local/lib/python3.10/dist-packages (from torch) (8.9.2.26)\n",
            "Requirement already satisfied: nvidia-cublas-cu12==12.1.3.1 in /usr/local/lib/python3.10/dist-packages (from torch) (12.1.3.1)\n",
            "Requirement already satisfied: nvidia-cufft-cu12==11.0.2.54 in /usr/local/lib/python3.10/dist-packages (from torch) (11.0.2.54)\n",
            "Requirement already satisfied: nvidia-curand-cu12==10.3.2.106 in /usr/local/lib/python3.10/dist-packages (from torch) (10.3.2.106)\n",
            "Requirement already satisfied: nvidia-cusolver-cu12==11.4.5.107 in /usr/local/lib/python3.10/dist-packages (from torch) (11.4.5.107)\n",
            "Requirement already satisfied: nvidia-cusparse-cu12==12.1.0.106 in /usr/local/lib/python3.10/dist-packages (from torch) (12.1.0.106)\n",
            "Requirement already satisfied: nvidia-nccl-cu12==2.20.5 in /usr/local/lib/python3.10/dist-packages (from torch) (2.20.5)\n",
            "Requirement already satisfied: nvidia-nvtx-cu12==12.1.105 in /usr/local/lib/python3.10/dist-packages (from torch) (12.1.105)\n",
            "Requirement already satisfied: triton==2.3.0 in /usr/local/lib/python3.10/dist-packages (from torch) (2.3.0)\n",
            "Requirement already satisfied: nvidia-nvjitlink-cu12 in /usr/local/lib/python3.10/dist-packages (from nvidia-cusolver-cu12==11.4.5.107->torch) (12.5.82)\n",
            "Requirement already satisfied: huggingface-hub<1.0,>=0.11.0 in /usr/local/lib/python3.10/dist-packages (from transformers) (0.23.5)\n",
            "Requirement already satisfied: pyyaml>=5.1 in /usr/local/lib/python3.10/dist-packages (from transformers) (6.0.1)\n",
            "Requirement already satisfied: regex!=2019.12.17 in /usr/local/lib/python3.10/dist-packages (from transformers) (2024.5.15)\n",
            "Requirement already satisfied: requests in /usr/local/lib/python3.10/dist-packages (from transformers) (2.31.0)\n",
            "Requirement already satisfied: tokenizers!=0.11.3,<0.14,>=0.11.1 in /usr/local/lib/python3.10/dist-packages (from transformers) (0.13.3)\n",
            "Requirement already satisfied: tqdm>=4.27 in /usr/local/lib/python3.10/dist-packages (from transformers) (4.66.4)\n",
            "Requirement already satisfied: python-dateutil>=2.8.2 in /usr/local/lib/python3.10/dist-packages (from pandas!=2.1.0rc0,!=2.1.2,>=1.4->anndata) (2.8.2)\n",
            "Requirement already satisfied: pytz>=2020.1 in /usr/local/lib/python3.10/dist-packages (from pandas!=2.1.0rc0,!=2.1.2,>=1.4->anndata) (2024.1)\n",
            "Requirement already satisfied: tzdata>=2022.7 in /usr/local/lib/python3.10/dist-packages (from pandas!=2.1.0rc0,!=2.1.2,>=1.4->anndata) (2024.1)\n",
            "Requirement already satisfied: MarkupSafe>=2.0 in /usr/local/lib/python3.10/dist-packages (from jinja2->torch) (2.1.5)\n",
            "Requirement already satisfied: charset-normalizer<4,>=2 in /usr/local/lib/python3.10/dist-packages (from requests->transformers) (3.3.2)\n",
            "Requirement already satisfied: idna<4,>=2.5 in /usr/local/lib/python3.10/dist-packages (from requests->transformers) (3.7)\n",
            "Requirement already satisfied: urllib3<3,>=1.21.1 in /usr/local/lib/python3.10/dist-packages (from requests->transformers) (2.0.7)\n",
            "Requirement already satisfied: certifi>=2017.4.17 in /usr/local/lib/python3.10/dist-packages (from requests->transformers) (2024.7.4)\n",
            "Requirement already satisfied: mpmath<1.4,>=1.1.0 in /usr/local/lib/python3.10/dist-packages (from sympy->torch) (1.3.0)\n",
            "Requirement already satisfied: six>=1.5 in /usr/local/lib/python3.10/dist-packages (from python-dateutil>=2.8.2->pandas!=2.1.0rc0,!=2.1.2,>=1.4->anndata) (1.16.0)\n"
          ]
        }
      ]
    },
    {
      "cell_type": "code",
      "execution_count": 3,
      "metadata": {
        "colab": {
          "base_uri": "https://localhost:8080/"
        },
        "id": "47YQclXeJS2Z",
        "outputId": "6b198ea5-f2ef-46d6-a401-82cd2e461418"
      },
      "outputs": [
        {
          "output_type": "stream",
          "name": "stderr",
          "text": [
            "<frozen importlib._bootstrap>:914: ImportWarning: _PyDrive2ImportHook.find_spec() not found; falling back to find_module()\n",
            "<frozen importlib._bootstrap>:914: ImportWarning: _PyDriveImportHook.find_spec() not found; falling back to find_module()\n",
            "<frozen importlib._bootstrap>:914: ImportWarning: _GenerativeAIImportHook.find_spec() not found; falling back to find_module()\n",
            "<frozen importlib._bootstrap>:914: ImportWarning: _OpenCVImportHook.find_spec() not found; falling back to find_module()\n",
            "<frozen importlib._bootstrap>:914: ImportWarning: APICoreClientInfoImportHook.find_spec() not found; falling back to find_module()\n",
            "<frozen importlib._bootstrap>:914: ImportWarning: _BokehImportHook.find_spec() not found; falling back to find_module()\n",
            "<frozen importlib._bootstrap>:914: ImportWarning: _AltairImportHook.find_spec() not found; falling back to find_module()\n",
            "<frozen importlib._bootstrap>:914: ImportWarning: _PyDrive2ImportHook.find_spec() not found; falling back to find_module()\n",
            "<frozen importlib._bootstrap>:914: ImportWarning: _PyDriveImportHook.find_spec() not found; falling back to find_module()\n",
            "<frozen importlib._bootstrap>:914: ImportWarning: _GenerativeAIImportHook.find_spec() not found; falling back to find_module()\n",
            "<frozen importlib._bootstrap>:914: ImportWarning: _OpenCVImportHook.find_spec() not found; falling back to find_module()\n",
            "<frozen importlib._bootstrap>:914: ImportWarning: APICoreClientInfoImportHook.find_spec() not found; falling back to find_module()\n",
            "<frozen importlib._bootstrap>:914: ImportWarning: _BokehImportHook.find_spec() not found; falling back to find_module()\n",
            "<frozen importlib._bootstrap>:914: ImportWarning: _AltairImportHook.find_spec() not found; falling back to find_module()\n",
            "<frozen importlib._bootstrap>:914: ImportWarning: _PyDrive2ImportHook.find_spec() not found; falling back to find_module()\n",
            "<frozen importlib._bootstrap>:914: ImportWarning: _PyDriveImportHook.find_spec() not found; falling back to find_module()\n",
            "<frozen importlib._bootstrap>:914: ImportWarning: _GenerativeAIImportHook.find_spec() not found; falling back to find_module()\n",
            "<frozen importlib._bootstrap>:914: ImportWarning: _OpenCVImportHook.find_spec() not found; falling back to find_module()\n",
            "<frozen importlib._bootstrap>:914: ImportWarning: APICoreClientInfoImportHook.find_spec() not found; falling back to find_module()\n",
            "<frozen importlib._bootstrap>:914: ImportWarning: _BokehImportHook.find_spec() not found; falling back to find_module()\n",
            "<frozen importlib._bootstrap>:914: ImportWarning: _AltairImportHook.find_spec() not found; falling back to find_module()\n",
            "<frozen importlib._bootstrap>:914: ImportWarning: _PyDrive2ImportHook.find_spec() not found; falling back to find_module()\n",
            "<frozen importlib._bootstrap>:914: ImportWarning: _PyDriveImportHook.find_spec() not found; falling back to find_module()\n",
            "<frozen importlib._bootstrap>:914: ImportWarning: _GenerativeAIImportHook.find_spec() not found; falling back to find_module()\n",
            "<frozen importlib._bootstrap>:914: ImportWarning: _OpenCVImportHook.find_spec() not found; falling back to find_module()\n",
            "<frozen importlib._bootstrap>:914: ImportWarning: APICoreClientInfoImportHook.find_spec() not found; falling back to find_module()\n",
            "<frozen importlib._bootstrap>:914: ImportWarning: _BokehImportHook.find_spec() not found; falling back to find_module()\n",
            "<frozen importlib._bootstrap>:914: ImportWarning: _AltairImportHook.find_spec() not found; falling back to find_module()\n",
            "<frozen importlib._bootstrap>:914: ImportWarning: _PyDrive2ImportHook.find_spec() not found; falling back to find_module()\n",
            "<frozen importlib._bootstrap>:914: ImportWarning: _PyDriveImportHook.find_spec() not found; falling back to find_module()\n",
            "<frozen importlib._bootstrap>:914: ImportWarning: _GenerativeAIImportHook.find_spec() not found; falling back to find_module()\n",
            "<frozen importlib._bootstrap>:914: ImportWarning: _OpenCVImportHook.find_spec() not found; falling back to find_module()\n",
            "<frozen importlib._bootstrap>:914: ImportWarning: APICoreClientInfoImportHook.find_spec() not found; falling back to find_module()\n",
            "<frozen importlib._bootstrap>:914: ImportWarning: _BokehImportHook.find_spec() not found; falling back to find_module()\n",
            "<frozen importlib._bootstrap>:914: ImportWarning: _AltairImportHook.find_spec() not found; falling back to find_module()\n",
            "<frozen importlib._bootstrap>:914: ImportWarning: _PyDrive2ImportHook.find_spec() not found; falling back to find_module()\n",
            "<frozen importlib._bootstrap>:914: ImportWarning: _PyDriveImportHook.find_spec() not found; falling back to find_module()\n",
            "<frozen importlib._bootstrap>:914: ImportWarning: _GenerativeAIImportHook.find_spec() not found; falling back to find_module()\n",
            "<frozen importlib._bootstrap>:914: ImportWarning: _OpenCVImportHook.find_spec() not found; falling back to find_module()\n",
            "<frozen importlib._bootstrap>:914: ImportWarning: APICoreClientInfoImportHook.find_spec() not found; falling back to find_module()\n",
            "<frozen importlib._bootstrap>:914: ImportWarning: _BokehImportHook.find_spec() not found; falling back to find_module()\n",
            "<frozen importlib._bootstrap>:914: ImportWarning: _AltairImportHook.find_spec() not found; falling back to find_module()\n",
            "<frozen importlib._bootstrap>:914: ImportWarning: _PyDrive2ImportHook.find_spec() not found; falling back to find_module()\n",
            "<frozen importlib._bootstrap>:914: ImportWarning: _PyDriveImportHook.find_spec() not found; falling back to find_module()\n",
            "<frozen importlib._bootstrap>:914: ImportWarning: _GenerativeAIImportHook.find_spec() not found; falling back to find_module()\n",
            "<frozen importlib._bootstrap>:914: ImportWarning: _OpenCVImportHook.find_spec() not found; falling back to find_module()\n",
            "<frozen importlib._bootstrap>:914: ImportWarning: APICoreClientInfoImportHook.find_spec() not found; falling back to find_module()\n",
            "<frozen importlib._bootstrap>:914: ImportWarning: _BokehImportHook.find_spec() not found; falling back to find_module()\n",
            "<frozen importlib._bootstrap>:914: ImportWarning: _AltairImportHook.find_spec() not found; falling back to find_module()\n",
            "<frozen importlib._bootstrap>:914: ImportWarning: _PyDrive2ImportHook.find_spec() not found; falling back to find_module()\n",
            "<frozen importlib._bootstrap>:914: ImportWarning: _PyDriveImportHook.find_spec() not found; falling back to find_module()\n",
            "<frozen importlib._bootstrap>:914: ImportWarning: _GenerativeAIImportHook.find_spec() not found; falling back to find_module()\n",
            "<frozen importlib._bootstrap>:914: ImportWarning: _OpenCVImportHook.find_spec() not found; falling back to find_module()\n",
            "<frozen importlib._bootstrap>:914: ImportWarning: APICoreClientInfoImportHook.find_spec() not found; falling back to find_module()\n",
            "<frozen importlib._bootstrap>:914: ImportWarning: _BokehImportHook.find_spec() not found; falling back to find_module()\n",
            "<frozen importlib._bootstrap>:914: ImportWarning: _AltairImportHook.find_spec() not found; falling back to find_module()\n",
            "<frozen importlib._bootstrap>:914: ImportWarning: _PyDrive2ImportHook.find_spec() not found; falling back to find_module()\n",
            "<frozen importlib._bootstrap>:914: ImportWarning: _PyDriveImportHook.find_spec() not found; falling back to find_module()\n",
            "<frozen importlib._bootstrap>:914: ImportWarning: _GenerativeAIImportHook.find_spec() not found; falling back to find_module()\n",
            "<frozen importlib._bootstrap>:914: ImportWarning: _OpenCVImportHook.find_spec() not found; falling back to find_module()\n",
            "<frozen importlib._bootstrap>:914: ImportWarning: APICoreClientInfoImportHook.find_spec() not found; falling back to find_module()\n",
            "<frozen importlib._bootstrap>:914: ImportWarning: _BokehImportHook.find_spec() not found; falling back to find_module()\n",
            "<frozen importlib._bootstrap>:914: ImportWarning: _AltairImportHook.find_spec() not found; falling back to find_module()\n",
            "<frozen importlib._bootstrap>:914: ImportWarning: _PyDrive2ImportHook.find_spec() not found; falling back to find_module()\n",
            "<frozen importlib._bootstrap>:914: ImportWarning: _PyDriveImportHook.find_spec() not found; falling back to find_module()\n",
            "<frozen importlib._bootstrap>:914: ImportWarning: _GenerativeAIImportHook.find_spec() not found; falling back to find_module()\n",
            "<frozen importlib._bootstrap>:914: ImportWarning: _OpenCVImportHook.find_spec() not found; falling back to find_module()\n",
            "<frozen importlib._bootstrap>:914: ImportWarning: APICoreClientInfoImportHook.find_spec() not found; falling back to find_module()\n",
            "<frozen importlib._bootstrap>:914: ImportWarning: _BokehImportHook.find_spec() not found; falling back to find_module()\n",
            "<frozen importlib._bootstrap>:914: ImportWarning: _AltairImportHook.find_spec() not found; falling back to find_module()\n",
            "<frozen importlib._bootstrap>:914: ImportWarning: _PyDrive2ImportHook.find_spec() not found; falling back to find_module()\n",
            "<frozen importlib._bootstrap>:914: ImportWarning: _PyDriveImportHook.find_spec() not found; falling back to find_module()\n",
            "<frozen importlib._bootstrap>:914: ImportWarning: _GenerativeAIImportHook.find_spec() not found; falling back to find_module()\n",
            "<frozen importlib._bootstrap>:914: ImportWarning: _OpenCVImportHook.find_spec() not found; falling back to find_module()\n",
            "<frozen importlib._bootstrap>:914: ImportWarning: APICoreClientInfoImportHook.find_spec() not found; falling back to find_module()\n",
            "<frozen importlib._bootstrap>:914: ImportWarning: _BokehImportHook.find_spec() not found; falling back to find_module()\n",
            "<frozen importlib._bootstrap>:914: ImportWarning: _AltairImportHook.find_spec() not found; falling back to find_module()\n",
            "/usr/local/lib/python3.10/dist-packages/umap/__init__.py:9: ImportWarning: Tensorflow not installed; ParametricUMAP will be unavailable\n",
            "  warn(\n",
            "<frozen importlib._bootstrap>:914: ImportWarning: _PyDrive2ImportHook.find_spec() not found; falling back to find_module()\n",
            "<frozen importlib._bootstrap>:914: ImportWarning: _PyDriveImportHook.find_spec() not found; falling back to find_module()\n",
            "<frozen importlib._bootstrap>:914: ImportWarning: _GenerativeAIImportHook.find_spec() not found; falling back to find_module()\n",
            "<frozen importlib._bootstrap>:914: ImportWarning: _OpenCVImportHook.find_spec() not found; falling back to find_module()\n",
            "<frozen importlib._bootstrap>:914: ImportWarning: APICoreClientInfoImportHook.find_spec() not found; falling back to find_module()\n",
            "<frozen importlib._bootstrap>:914: ImportWarning: _BokehImportHook.find_spec() not found; falling back to find_module()\n",
            "<frozen importlib._bootstrap>:914: ImportWarning: _AltairImportHook.find_spec() not found; falling back to find_module()\n"
          ]
        }
      ],
      "source": [
        "import os\n",
        "import requests\n",
        "import anndata as ad\n",
        "import torch\n",
        "import numpy as np\n",
        "import umap\n",
        "import matplotlib.pyplot as plt\n",
        "from helical.models.scgpt.model import scGPT, scGPTConfig"
      ]
    },
    {
      "cell_type": "code",
      "source": [
        "device = \"cuda\" if torch.cuda.is_available() else \"cpu\"\n",
        "print(f\"Using device: {device}\")"
      ],
      "metadata": {
        "colab": {
          "base_uri": "https://localhost:8080/"
        },
        "id": "rQWeJPB2l--s",
        "outputId": "73438724-f0be-4896-b219-29e6273dd357"
      },
      "execution_count": 4,
      "outputs": [
        {
          "output_type": "stream",
          "name": "stdout",
          "text": [
            "Using device: cuda\n"
          ]
        },
        {
          "output_type": "stream",
          "name": "stderr",
          "text": [
            "/usr/local/lib/python3.10/dist-packages/ipykernel/ipkernel.py:283: DeprecationWarning: `should_run_async` will not call `transform_cell` automatically in the future. Please pass the result to `transformed_cell` argument and any exception that happen during thetransform in `preprocessing_exc_tuple` in IPython 7.17 and above.\n",
            "  and should_run_async(code)\n"
          ]
        }
      ]
    },
    {
      "cell_type": "markdown",
      "source": [
        "## Load data from the PBMC and scGPT model"
      ],
      "metadata": {
        "id": "hCHRvy1FlmN7"
      }
    },
    {
      "cell_type": "markdown",
      "source": [
        "For convenience and illustrative purposes, I used the single-cell RNA sequencing data of Peripheral Blood Mononuclear Cells (PBMC) that is provided by Helical's download link.\n",
        "\n",
        "As for the model, I used the scGPT pre-trained model from Helical. scGPT is not yet officially part of the Hugging Face Transformers library.\n",
        "\n",
        "Regarding the genes to knock-out, they will be selected randomly, as a fraction of the total pool of genes."
      ],
      "metadata": {
        "id": "l7_--blGKI-V"
      }
    },
    {
      "cell_type": "code",
      "source": [
        "url = \"https://helicalpackage.blob.core.windows.net/helicalpackage/data/10k_pbmcs_proc.h5ad\"\n",
        "\n",
        "# Extract the filename and download the file\n",
        "filename = url.split(\"/\")[-1]\n",
        "\n",
        "# Check if the file already exists in the current directory\n",
        "if os.path.exists(filename):\n",
        "    print(f\"{filename} already exist. Skipping downloads.\")\n",
        "else:\n",
        "    response = requests.get(url)\n",
        "    if response.status_code == 200:\n",
        "        with open(filename, \"wb\") as file:\n",
        "            file.write(response.content)\n",
        "        print(f\"Downloaded {filename} successfully.\")\n",
        "    else:\n",
        "        print(f\"Failed to download {filename}.\")"
      ],
      "metadata": {
        "colab": {
          "base_uri": "https://localhost:8080/"
        },
        "id": "qDglbiT_lk6Q",
        "outputId": "069c1c50-fd38-4c57-97db-f1616dd4bdfd"
      },
      "execution_count": 5,
      "outputs": [
        {
          "output_type": "stream",
          "name": "stdout",
          "text": [
            "Downloaded 10k_pbmcs_proc.h5ad successfully.\n"
          ]
        }
      ]
    },
    {
      "cell_type": "code",
      "source": [
        "# model is loaded from Helical\n",
        "scgpt_config = scGPTConfig(batch_size=64, device=device, accelerator=True)\n",
        "scgpt = scGPT(configurer = scgpt_config)"
      ],
      "metadata": {
        "colab": {
          "base_uri": "https://localhost:8080/"
        },
        "id": "cIdYaInjOf0Y",
        "outputId": "7b1e0a6a-0db1-4311-b357-faa80b712329"
      },
      "execution_count": 6,
      "outputs": [
        {
          "output_type": "stream",
          "name": "stderr",
          "text": [
            "Downloading: 100%|██████████| 1.32M/1.32M [00:00<00:00, 1.65MB/s]\n",
            "Downloading: 100%|██████████| 208M/208M [00:06<00:00, 56.9MB/s]sys:1: ResourceWarning: Unclosed socket <zmq.Socket(zmq.PUSH) at 0x7974a00665c0>\n",
            "ResourceWarning: Enable tracemalloc to get the object allocation traceback\n",
            "sys:1: ResourceWarning: Unclosed socket <zmq.Socket(zmq.PUSH) at 0x7974aa9c4e80>\n",
            "ResourceWarning: Enable tracemalloc to get the object allocation traceback\n",
            "sys:1: ResourceWarning: Unclosed socket <zmq.Socket(zmq.PUSH) at 0x7974aa8ce5c0>\n",
            "ResourceWarning: Enable tracemalloc to get the object allocation traceback\n",
            "sys:1: ResourceWarning: Unclosed socket <zmq.Socket(zmq.PUSH) at 0x7974aa8cfdc0>\n",
            "ResourceWarning: Enable tracemalloc to get the object allocation traceback\n",
            "sys:1: ResourceWarning: Unclosed socket <zmq.Socket(zmq.PUSH) at 0x7974aa9c66e0>\n",
            "ResourceWarning: Enable tracemalloc to get the object allocation traceback\n",
            "sys:1: ResourceWarning: Unclosed socket <zmq.Socket(zmq.PUSH) at 0x7974aa9c6140>\n",
            "ResourceWarning: Enable tracemalloc to get the object allocation traceback\n",
            "sys:1: ResourceWarning: Unclosed socket <zmq.Socket(zmq.PUSH) at 0x7974aa9c6800>\n",
            "ResourceWarning: Enable tracemalloc to get the object allocation traceback\n",
            "sys:1: ResourceWarning: Unclosed socket <zmq.Socket(zmq.PUSH) at 0x7974aa8cf4c0>\n",
            "ResourceWarning: Enable tracemalloc to get the object allocation traceback\n",
            "sys:1: ResourceWarning: Unclosed socket <zmq.Socket(zmq.PUSH) at 0x7974aa9c40a0>\n",
            "ResourceWarning: Enable tracemalloc to get the object allocation traceback\n",
            "sys:1: ResourceWarning: Unclosed socket <zmq.Socket(zmq.PUSH) at 0x7974aa9c4460>\n",
            "ResourceWarning: Enable tracemalloc to get the object allocation traceback\n",
            "sys:1: ResourceWarning: Unclosed socket <zmq.Socket(zmq.PUSH) at 0x7974aa9c6980>\n",
            "ResourceWarning: Enable tracemalloc to get the object allocation traceback\n",
            "sys:1: ResourceWarning: Unclosed socket <zmq.Socket(zmq.PUSH) at 0x7974aa8cfa00>\n",
            "ResourceWarning: Enable tracemalloc to get the object allocation traceback\n",
            "sys:1: ResourceWarning: Unclosed socket <zmq.Socket(zmq.PUSH) at 0x7974aa9c46a0>\n",
            "ResourceWarning: Enable tracemalloc to get the object allocation traceback\n",
            "sys:1: ResourceWarning: Unclosed socket <zmq.Socket(zmq.PUSH) at 0x7974aa8cf520>\n",
            "ResourceWarning: Enable tracemalloc to get the object allocation traceback\n",
            "sys:1: ResourceWarning: Unclosed socket <zmq.Socket(zmq.PUSH) at 0x7974aa9c42e0>\n",
            "ResourceWarning: Enable tracemalloc to get the object allocation traceback\n",
            "sys:1: ResourceWarning: Unclosed socket <zmq.Socket(zmq.PUSH) at 0x7974aa8cffa0>\n",
            "ResourceWarning: Enable tracemalloc to get the object allocation traceback\n",
            "sys:1: ResourceWarning: Unclosed socket <zmq.Socket(zmq.PUSH) at 0x7974aa42d180>\n",
            "ResourceWarning: Enable tracemalloc to get the object allocation traceback\n",
            "sys:1: ResourceWarning: Unclosed socket <zmq.Socket(zmq.PUSH) at 0x7974aa9b67a0>\n",
            "ResourceWarning: Enable tracemalloc to get the object allocation traceback\n",
            "sys:1: ResourceWarning: Unclosed socket <zmq.Socket(zmq.PUSH) at 0x7974aa9b6680>\n",
            "ResourceWarning: Enable tracemalloc to get the object allocation traceback\n",
            "sys:1: ResourceWarning: Unclosed socket <zmq.Socket(zmq.PUSH) at 0x7974aa9c4ac0>\n",
            "ResourceWarning: Enable tracemalloc to get the object allocation traceback\n",
            "sys:1: ResourceWarning: Unclosed socket <zmq.Socket(zmq.PUSH) at 0x7974aa42e020>\n",
            "ResourceWarning: Enable tracemalloc to get the object allocation traceback\n",
            "sys:1: ResourceWarning: Unclosed socket <zmq.Socket(zmq.PUSH) at 0x7974aa42f6a0>\n",
            "ResourceWarning: Enable tracemalloc to get the object allocation traceback\n",
            "sys:1: ResourceWarning: Unclosed socket <zmq.Socket(zmq.PUSH) at 0x7974aa42cb80>\n",
            "ResourceWarning: Enable tracemalloc to get the object allocation traceback\n",
            "sys:1: ResourceWarning: Unclosed socket <zmq.Socket(zmq.PUSH) at 0x7974aa42dcc0>\n",
            "ResourceWarning: Enable tracemalloc to get the object allocation traceback\n",
            "sys:1: ResourceWarning: Unclosed socket <zmq.Socket(zmq.PUSH) at 0x7974aa42d5a0>\n",
            "ResourceWarning: Enable tracemalloc to get the object allocation traceback\n",
            "sys:1: ResourceWarning: Unclosed socket <zmq.Socket(zmq.PUSH) at 0x7974aa42eda0>\n",
            "ResourceWarning: Enable tracemalloc to get the object allocation traceback\n",
            "sys:1: ResourceWarning: Unclosed socket <zmq.Socket(zmq.PUSH) at 0x7974aa42ece0>\n",
            "ResourceWarning: Enable tracemalloc to get the object allocation traceback\n",
            "sys:1: ResourceWarning: Unclosed socket <zmq.Socket(zmq.PUSH) at 0x7974aa42ef20>\n",
            "ResourceWarning: Enable tracemalloc to get the object allocation traceback\n",
            "sys:1: ResourceWarning: Unclosed socket <zmq.Socket(zmq.PUSH) at 0x7974aa42c8e0>\n",
            "ResourceWarning: Enable tracemalloc to get the object allocation traceback\n",
            "sys:1: ResourceWarning: Unclosed socket <zmq.Socket(zmq.PUSH) at 0x7974aa42f880>\n",
            "ResourceWarning: Enable tracemalloc to get the object allocation traceback\n",
            "sys:1: ResourceWarning: Unclosed socket <zmq.Socket(zmq.PUSH) at 0x7974aa42dde0>\n",
            "ResourceWarning: Enable tracemalloc to get the object allocation traceback\n",
            "sys:1: ResourceWarning: Unclosed socket <zmq.Socket(zmq.PUSH) at 0x7974aa42e500>\n",
            "ResourceWarning: Enable tracemalloc to get the object allocation traceback\n",
            "sys:1: ResourceWarning: Unclosed socket <zmq.Socket(zmq.PUSH) at 0x7974aa42fac0>\n",
            "ResourceWarning: Enable tracemalloc to get the object allocation traceback\n",
            "sys:1: ResourceWarning: Unclosed socket <zmq.Socket(zmq.PUSH) at 0x7974aa42d960>\n",
            "ResourceWarning: Enable tracemalloc to get the object allocation traceback\n",
            "sys:1: ResourceWarning: Unclosed socket <zmq.Socket(zmq.PUSH) at 0x7974aa42de40>\n",
            "ResourceWarning: Enable tracemalloc to get the object allocation traceback\n",
            "sys:1: ResourceWarning: Unclosed socket <zmq.Socket(zmq.PUSH) at 0x7974aa42fb80>\n",
            "ResourceWarning: Enable tracemalloc to get the object allocation traceback\n",
            "sys:1: ResourceWarning: Unclosed socket <zmq.Socket(zmq.PUSH) at 0x7974aa42c640>\n",
            "ResourceWarning: Enable tracemalloc to get the object allocation traceback\n",
            "sys:1: ResourceWarning: Unclosed socket <zmq.Socket(zmq.PUSH) at 0x7974aa42ee00>\n",
            "ResourceWarning: Enable tracemalloc to get the object allocation traceback\n",
            "sys:1: ResourceWarning: Unclosed socket <zmq.Socket(zmq.PUSH) at 0x7974aa42e800>\n",
            "ResourceWarning: Enable tracemalloc to get the object allocation traceback\n",
            "sys:1: ResourceWarning: Unclosed socket <zmq.Socket(zmq.PUSH) at 0x7974aa8cf880>\n",
            "ResourceWarning: Enable tracemalloc to get the object allocation traceback\n",
            "Downloading: 100%|██████████| 208M/208M [00:07<00:00, 28.3MB/s]\n",
            "<frozen importlib._bootstrap>:914: ImportWarning: _PyDrive2ImportHook.find_spec() not found; falling back to find_module()\n",
            "<frozen importlib._bootstrap>:914: ImportWarning: _PyDriveImportHook.find_spec() not found; falling back to find_module()\n",
            "<frozen importlib._bootstrap>:914: ImportWarning: _GenerativeAIImportHook.find_spec() not found; falling back to find_module()\n",
            "<frozen importlib._bootstrap>:914: ImportWarning: _OpenCVImportHook.find_spec() not found; falling back to find_module()\n",
            "<frozen importlib._bootstrap>:914: ImportWarning: APICoreClientInfoImportHook.find_spec() not found; falling back to find_module()\n",
            "<frozen importlib._bootstrap>:914: ImportWarning: _BokehImportHook.find_spec() not found; falling back to find_module()\n",
            "<frozen importlib._bootstrap>:914: ImportWarning: _AltairImportHook.find_spec() not found; falling back to find_module()\n"
          ]
        }
      ]
    },
    {
      "cell_type": "code",
      "source": [
        "# load data\n",
        "ann_data = ad.read_h5ad(\"10k_pbmcs_proc.h5ad\")\n",
        "ann_data"
      ],
      "metadata": {
        "colab": {
          "base_uri": "https://localhost:8080/"
        },
        "id": "Ot5yOJhOKSus",
        "outputId": "f2c24f24-c2de-4012-817d-358385c5e334"
      },
      "execution_count": 7,
      "outputs": [
        {
          "output_type": "execute_result",
          "data": {
            "text/plain": [
              "AnnData object with n_obs × n_vars = 11990 × 12000\n",
              "    obs: 'n_counts', 'batch', 'labels', 'str_labels', 'cell_type'\n",
              "    var: 'gene_symbols', 'n_counts-0', 'n_counts-1', 'n_counts', 'highly_variable', 'highly_variable_rank', 'means', 'variances', 'variances_norm'\n",
              "    uns: 'cell_types', 'hvg'\n",
              "    obsm: 'design', 'normalized_qc', 'qc_pc', 'raw_qc'"
            ]
          },
          "metadata": {},
          "execution_count": 7
        }
      ]
    },
    {
      "cell_type": "markdown",
      "source": [
        "#### Data exploration"
      ],
      "metadata": {
        "id": "BC68aqjgJZbP"
      }
    },
    {
      "cell_type": "code",
      "source": [
        "print(ann_data.n_vars) # genes\n",
        "print(ann_data.var_names[0:5])\n",
        "print(ann_data.n_obs) # cells\n",
        "print(ann_data.obs_names[0:5])"
      ],
      "metadata": {
        "colab": {
          "base_uri": "https://localhost:8080/"
        },
        "id": "sRz2I02DHcc7",
        "outputId": "49c5a376-85e2-4c9a-e729-3f59cd8fa81d"
      },
      "execution_count": 8,
      "outputs": [
        {
          "output_type": "stream",
          "name": "stdout",
          "text": [
            "12000\n",
            "Index(['SAMD11', 'PLEKHN1', 'HES4', 'ISG15', 'AGRN'], dtype='object')\n",
            "11990\n",
            "Index(['AAACCTGAGCTAGTGG-1', 'AAACCTGCACATTAGC-1', 'AAACCTGCACTGTTAG-1',\n",
            "       'AAACCTGCATAGTAAG-1', 'AAACCTGCATGAACCT-1'],\n",
            "      dtype='object')\n"
          ]
        }
      ]
    },
    {
      "cell_type": "markdown",
      "source": [
        "The dataset contains information of 12000 genes (ids are gene symbols) and 11990 cells."
      ],
      "metadata": {
        "id": "EIU9fDjEI9wt"
      }
    },
    {
      "cell_type": "code",
      "source": [
        "# metadata of genes\n",
        "ann_data.var.head()"
      ],
      "metadata": {
        "colab": {
          "base_uri": "https://localhost:8080/",
          "height": 474
        },
        "id": "yJDqyCv1KDun",
        "outputId": "7319102d-7ffa-4107-d289-0ee49664910e"
      },
      "execution_count": 9,
      "outputs": [
        {
          "output_type": "stream",
          "name": "stderr",
          "text": [
            "<frozen importlib._bootstrap>:914: ImportWarning: _PyDrive2ImportHook.find_spec() not found; falling back to find_module()\n",
            "<frozen importlib._bootstrap>:914: ImportWarning: _PyDriveImportHook.find_spec() not found; falling back to find_module()\n",
            "<frozen importlib._bootstrap>:914: ImportWarning: _GenerativeAIImportHook.find_spec() not found; falling back to find_module()\n",
            "<frozen importlib._bootstrap>:914: ImportWarning: _OpenCVImportHook.find_spec() not found; falling back to find_module()\n",
            "<frozen importlib._bootstrap>:914: ImportWarning: APICoreClientInfoImportHook.find_spec() not found; falling back to find_module()\n",
            "<frozen importlib._bootstrap>:914: ImportWarning: _BokehImportHook.find_spec() not found; falling back to find_module()\n",
            "<frozen importlib._bootstrap>:914: ImportWarning: _AltairImportHook.find_spec() not found; falling back to find_module()\n",
            "<frozen importlib._bootstrap>:914: ImportWarning: _PyDrive2ImportHook.find_spec() not found; falling back to find_module()\n",
            "<frozen importlib._bootstrap>:914: ImportWarning: _PyDriveImportHook.find_spec() not found; falling back to find_module()\n",
            "<frozen importlib._bootstrap>:914: ImportWarning: _GenerativeAIImportHook.find_spec() not found; falling back to find_module()\n",
            "<frozen importlib._bootstrap>:914: ImportWarning: _OpenCVImportHook.find_spec() not found; falling back to find_module()\n",
            "<frozen importlib._bootstrap>:914: ImportWarning: APICoreClientInfoImportHook.find_spec() not found; falling back to find_module()\n",
            "<frozen importlib._bootstrap>:914: ImportWarning: _BokehImportHook.find_spec() not found; falling back to find_module()\n",
            "<frozen importlib._bootstrap>:914: ImportWarning: _AltairImportHook.find_spec() not found; falling back to find_module()\n"
          ]
        },
        {
          "output_type": "execute_result",
          "data": {
            "text/plain": [
              "        gene_symbols  n_counts-0  n_counts-1  n_counts  highly_variable  \\\n",
              "SAMD11        SAMD11         7.0         4.0      11.0             True   \n",
              "PLEKHN1      PLEKHN1        30.0        10.0      39.0             True   \n",
              "HES4            HES4       580.0       294.0     855.0             True   \n",
              "ISG15          ISG15      4014.0      1888.0    5705.0             True   \n",
              "AGRN            AGRN        36.0         8.0      41.0             True   \n",
              "\n",
              "         highly_variable_rank     means  variances  variances_norm  \n",
              "SAMD11                 8398.0  0.000917   0.000917        0.937632  \n",
              "PLEKHN1                7424.0  0.003253   0.003409        0.945401  \n",
              "HES4                    189.0  0.071309   0.200353        2.573027  \n",
              "ISG15                   269.0  0.475813   1.413837        2.089724  \n",
              "AGRN                   7906.0  0.003420   0.003575        0.941332  "
            ],
            "text/html": [
              "\n",
              "  <div id=\"df-71f871bc-b291-48bd-9683-63d44a2bfe69\" class=\"colab-df-container\">\n",
              "    <div>\n",
              "<style scoped>\n",
              "    .dataframe tbody tr th:only-of-type {\n",
              "        vertical-align: middle;\n",
              "    }\n",
              "\n",
              "    .dataframe tbody tr th {\n",
              "        vertical-align: top;\n",
              "    }\n",
              "\n",
              "    .dataframe thead th {\n",
              "        text-align: right;\n",
              "    }\n",
              "</style>\n",
              "<table border=\"1\" class=\"dataframe\">\n",
              "  <thead>\n",
              "    <tr style=\"text-align: right;\">\n",
              "      <th></th>\n",
              "      <th>gene_symbols</th>\n",
              "      <th>n_counts-0</th>\n",
              "      <th>n_counts-1</th>\n",
              "      <th>n_counts</th>\n",
              "      <th>highly_variable</th>\n",
              "      <th>highly_variable_rank</th>\n",
              "      <th>means</th>\n",
              "      <th>variances</th>\n",
              "      <th>variances_norm</th>\n",
              "    </tr>\n",
              "  </thead>\n",
              "  <tbody>\n",
              "    <tr>\n",
              "      <th>SAMD11</th>\n",
              "      <td>SAMD11</td>\n",
              "      <td>7.0</td>\n",
              "      <td>4.0</td>\n",
              "      <td>11.0</td>\n",
              "      <td>True</td>\n",
              "      <td>8398.0</td>\n",
              "      <td>0.000917</td>\n",
              "      <td>0.000917</td>\n",
              "      <td>0.937632</td>\n",
              "    </tr>\n",
              "    <tr>\n",
              "      <th>PLEKHN1</th>\n",
              "      <td>PLEKHN1</td>\n",
              "      <td>30.0</td>\n",
              "      <td>10.0</td>\n",
              "      <td>39.0</td>\n",
              "      <td>True</td>\n",
              "      <td>7424.0</td>\n",
              "      <td>0.003253</td>\n",
              "      <td>0.003409</td>\n",
              "      <td>0.945401</td>\n",
              "    </tr>\n",
              "    <tr>\n",
              "      <th>HES4</th>\n",
              "      <td>HES4</td>\n",
              "      <td>580.0</td>\n",
              "      <td>294.0</td>\n",
              "      <td>855.0</td>\n",
              "      <td>True</td>\n",
              "      <td>189.0</td>\n",
              "      <td>0.071309</td>\n",
              "      <td>0.200353</td>\n",
              "      <td>2.573027</td>\n",
              "    </tr>\n",
              "    <tr>\n",
              "      <th>ISG15</th>\n",
              "      <td>ISG15</td>\n",
              "      <td>4014.0</td>\n",
              "      <td>1888.0</td>\n",
              "      <td>5705.0</td>\n",
              "      <td>True</td>\n",
              "      <td>269.0</td>\n",
              "      <td>0.475813</td>\n",
              "      <td>1.413837</td>\n",
              "      <td>2.089724</td>\n",
              "    </tr>\n",
              "    <tr>\n",
              "      <th>AGRN</th>\n",
              "      <td>AGRN</td>\n",
              "      <td>36.0</td>\n",
              "      <td>8.0</td>\n",
              "      <td>41.0</td>\n",
              "      <td>True</td>\n",
              "      <td>7906.0</td>\n",
              "      <td>0.003420</td>\n",
              "      <td>0.003575</td>\n",
              "      <td>0.941332</td>\n",
              "    </tr>\n",
              "  </tbody>\n",
              "</table>\n",
              "</div>\n",
              "    <div class=\"colab-df-buttons\">\n",
              "\n",
              "  <div class=\"colab-df-container\">\n",
              "    <button class=\"colab-df-convert\" onclick=\"convertToInteractive('df-71f871bc-b291-48bd-9683-63d44a2bfe69')\"\n",
              "            title=\"Convert this dataframe to an interactive table.\"\n",
              "            style=\"display:none;\">\n",
              "\n",
              "  <svg xmlns=\"http://www.w3.org/2000/svg\" height=\"24px\" viewBox=\"0 -960 960 960\">\n",
              "    <path d=\"M120-120v-720h720v720H120Zm60-500h600v-160H180v160Zm220 220h160v-160H400v160Zm0 220h160v-160H400v160ZM180-400h160v-160H180v160Zm440 0h160v-160H620v160ZM180-180h160v-160H180v160Zm440 0h160v-160H620v160Z\"/>\n",
              "  </svg>\n",
              "    </button>\n",
              "\n",
              "  <style>\n",
              "    .colab-df-container {\n",
              "      display:flex;\n",
              "      gap: 12px;\n",
              "    }\n",
              "\n",
              "    .colab-df-convert {\n",
              "      background-color: #E8F0FE;\n",
              "      border: none;\n",
              "      border-radius: 50%;\n",
              "      cursor: pointer;\n",
              "      display: none;\n",
              "      fill: #1967D2;\n",
              "      height: 32px;\n",
              "      padding: 0 0 0 0;\n",
              "      width: 32px;\n",
              "    }\n",
              "\n",
              "    .colab-df-convert:hover {\n",
              "      background-color: #E2EBFA;\n",
              "      box-shadow: 0px 1px 2px rgba(60, 64, 67, 0.3), 0px 1px 3px 1px rgba(60, 64, 67, 0.15);\n",
              "      fill: #174EA6;\n",
              "    }\n",
              "\n",
              "    .colab-df-buttons div {\n",
              "      margin-bottom: 4px;\n",
              "    }\n",
              "\n",
              "    [theme=dark] .colab-df-convert {\n",
              "      background-color: #3B4455;\n",
              "      fill: #D2E3FC;\n",
              "    }\n",
              "\n",
              "    [theme=dark] .colab-df-convert:hover {\n",
              "      background-color: #434B5C;\n",
              "      box-shadow: 0px 1px 3px 1px rgba(0, 0, 0, 0.15);\n",
              "      filter: drop-shadow(0px 1px 2px rgba(0, 0, 0, 0.3));\n",
              "      fill: #FFFFFF;\n",
              "    }\n",
              "  </style>\n",
              "\n",
              "    <script>\n",
              "      const buttonEl =\n",
              "        document.querySelector('#df-71f871bc-b291-48bd-9683-63d44a2bfe69 button.colab-df-convert');\n",
              "      buttonEl.style.display =\n",
              "        google.colab.kernel.accessAllowed ? 'block' : 'none';\n",
              "\n",
              "      async function convertToInteractive(key) {\n",
              "        const element = document.querySelector('#df-71f871bc-b291-48bd-9683-63d44a2bfe69');\n",
              "        const dataTable =\n",
              "          await google.colab.kernel.invokeFunction('convertToInteractive',\n",
              "                                                    [key], {});\n",
              "        if (!dataTable) return;\n",
              "\n",
              "        const docLinkHtml = 'Like what you see? Visit the ' +\n",
              "          '<a target=\"_blank\" href=https://colab.research.google.com/notebooks/data_table.ipynb>data table notebook</a>'\n",
              "          + ' to learn more about interactive tables.';\n",
              "        element.innerHTML = '';\n",
              "        dataTable['output_type'] = 'display_data';\n",
              "        await google.colab.output.renderOutput(dataTable, element);\n",
              "        const docLink = document.createElement('div');\n",
              "        docLink.innerHTML = docLinkHtml;\n",
              "        element.appendChild(docLink);\n",
              "      }\n",
              "    </script>\n",
              "  </div>\n",
              "\n",
              "\n",
              "<div id=\"df-2e16fc4d-0086-4e62-bd60-0ef689713c6d\">\n",
              "  <button class=\"colab-df-quickchart\" onclick=\"quickchart('df-2e16fc4d-0086-4e62-bd60-0ef689713c6d')\"\n",
              "            title=\"Suggest charts\"\n",
              "            style=\"display:none;\">\n",
              "\n",
              "<svg xmlns=\"http://www.w3.org/2000/svg\" height=\"24px\"viewBox=\"0 0 24 24\"\n",
              "     width=\"24px\">\n",
              "    <g>\n",
              "        <path d=\"M19 3H5c-1.1 0-2 .9-2 2v14c0 1.1.9 2 2 2h14c1.1 0 2-.9 2-2V5c0-1.1-.9-2-2-2zM9 17H7v-7h2v7zm4 0h-2V7h2v10zm4 0h-2v-4h2v4z\"/>\n",
              "    </g>\n",
              "</svg>\n",
              "  </button>\n",
              "\n",
              "<style>\n",
              "  .colab-df-quickchart {\n",
              "      --bg-color: #E8F0FE;\n",
              "      --fill-color: #1967D2;\n",
              "      --hover-bg-color: #E2EBFA;\n",
              "      --hover-fill-color: #174EA6;\n",
              "      --disabled-fill-color: #AAA;\n",
              "      --disabled-bg-color: #DDD;\n",
              "  }\n",
              "\n",
              "  [theme=dark] .colab-df-quickchart {\n",
              "      --bg-color: #3B4455;\n",
              "      --fill-color: #D2E3FC;\n",
              "      --hover-bg-color: #434B5C;\n",
              "      --hover-fill-color: #FFFFFF;\n",
              "      --disabled-bg-color: #3B4455;\n",
              "      --disabled-fill-color: #666;\n",
              "  }\n",
              "\n",
              "  .colab-df-quickchart {\n",
              "    background-color: var(--bg-color);\n",
              "    border: none;\n",
              "    border-radius: 50%;\n",
              "    cursor: pointer;\n",
              "    display: none;\n",
              "    fill: var(--fill-color);\n",
              "    height: 32px;\n",
              "    padding: 0;\n",
              "    width: 32px;\n",
              "  }\n",
              "\n",
              "  .colab-df-quickchart:hover {\n",
              "    background-color: var(--hover-bg-color);\n",
              "    box-shadow: 0 1px 2px rgba(60, 64, 67, 0.3), 0 1px 3px 1px rgba(60, 64, 67, 0.15);\n",
              "    fill: var(--button-hover-fill-color);\n",
              "  }\n",
              "\n",
              "  .colab-df-quickchart-complete:disabled,\n",
              "  .colab-df-quickchart-complete:disabled:hover {\n",
              "    background-color: var(--disabled-bg-color);\n",
              "    fill: var(--disabled-fill-color);\n",
              "    box-shadow: none;\n",
              "  }\n",
              "\n",
              "  .colab-df-spinner {\n",
              "    border: 2px solid var(--fill-color);\n",
              "    border-color: transparent;\n",
              "    border-bottom-color: var(--fill-color);\n",
              "    animation:\n",
              "      spin 1s steps(1) infinite;\n",
              "  }\n",
              "\n",
              "  @keyframes spin {\n",
              "    0% {\n",
              "      border-color: transparent;\n",
              "      border-bottom-color: var(--fill-color);\n",
              "      border-left-color: var(--fill-color);\n",
              "    }\n",
              "    20% {\n",
              "      border-color: transparent;\n",
              "      border-left-color: var(--fill-color);\n",
              "      border-top-color: var(--fill-color);\n",
              "    }\n",
              "    30% {\n",
              "      border-color: transparent;\n",
              "      border-left-color: var(--fill-color);\n",
              "      border-top-color: var(--fill-color);\n",
              "      border-right-color: var(--fill-color);\n",
              "    }\n",
              "    40% {\n",
              "      border-color: transparent;\n",
              "      border-right-color: var(--fill-color);\n",
              "      border-top-color: var(--fill-color);\n",
              "    }\n",
              "    60% {\n",
              "      border-color: transparent;\n",
              "      border-right-color: var(--fill-color);\n",
              "    }\n",
              "    80% {\n",
              "      border-color: transparent;\n",
              "      border-right-color: var(--fill-color);\n",
              "      border-bottom-color: var(--fill-color);\n",
              "    }\n",
              "    90% {\n",
              "      border-color: transparent;\n",
              "      border-bottom-color: var(--fill-color);\n",
              "    }\n",
              "  }\n",
              "</style>\n",
              "\n",
              "  <script>\n",
              "    async function quickchart(key) {\n",
              "      const quickchartButtonEl =\n",
              "        document.querySelector('#' + key + ' button');\n",
              "      quickchartButtonEl.disabled = true;  // To prevent multiple clicks.\n",
              "      quickchartButtonEl.classList.add('colab-df-spinner');\n",
              "      try {\n",
              "        const charts = await google.colab.kernel.invokeFunction(\n",
              "            'suggestCharts', [key], {});\n",
              "      } catch (error) {\n",
              "        console.error('Error during call to suggestCharts:', error);\n",
              "      }\n",
              "      quickchartButtonEl.classList.remove('colab-df-spinner');\n",
              "      quickchartButtonEl.classList.add('colab-df-quickchart-complete');\n",
              "    }\n",
              "    (() => {\n",
              "      let quickchartButtonEl =\n",
              "        document.querySelector('#df-2e16fc4d-0086-4e62-bd60-0ef689713c6d button');\n",
              "      quickchartButtonEl.style.display =\n",
              "        google.colab.kernel.accessAllowed ? 'block' : 'none';\n",
              "    })();\n",
              "  </script>\n",
              "</div>\n",
              "\n",
              "    </div>\n",
              "  </div>\n"
            ],
            "application/vnd.google.colaboratory.intrinsic+json": {
              "type": "dataframe",
              "summary": "{\n  \"name\": \"ann_data\",\n  \"rows\": 5,\n  \"fields\": [\n    {\n      \"column\": \"gene_symbols\",\n      \"properties\": {\n        \"dtype\": \"category\",\n        \"num_unique_values\": 5,\n        \"samples\": [\n          \"PLEKHN1\",\n          \"AGRN\",\n          \"HES4\"\n        ],\n        \"semantic_type\": \"\",\n        \"description\": \"\"\n      }\n    },\n    {\n      \"column\": \"n_counts-0\",\n      \"properties\": {\n        \"dtype\": \"float32\",\n        \"num_unique_values\": 5,\n        \"samples\": [\n          30.0,\n          36.0,\n          580.0\n        ],\n        \"semantic_type\": \"\",\n        \"description\": \"\"\n      }\n    },\n    {\n      \"column\": \"n_counts-1\",\n      \"properties\": {\n        \"dtype\": \"float32\",\n        \"num_unique_values\": 5,\n        \"samples\": [\n          10.0,\n          8.0,\n          294.0\n        ],\n        \"semantic_type\": \"\",\n        \"description\": \"\"\n      }\n    },\n    {\n      \"column\": \"n_counts\",\n      \"properties\": {\n        \"dtype\": \"float32\",\n        \"num_unique_values\": 5,\n        \"samples\": [\n          39.0,\n          41.0,\n          855.0\n        ],\n        \"semantic_type\": \"\",\n        \"description\": \"\"\n      }\n    },\n    {\n      \"column\": \"highly_variable\",\n      \"properties\": {\n        \"dtype\": \"boolean\",\n        \"num_unique_values\": 1,\n        \"samples\": [\n          true\n        ],\n        \"semantic_type\": \"\",\n        \"description\": \"\"\n      }\n    },\n    {\n      \"column\": \"highly_variable_rank\",\n      \"properties\": {\n        \"dtype\": \"float32\",\n        \"num_unique_values\": 5,\n        \"samples\": [\n          7424.0\n        ],\n        \"semantic_type\": \"\",\n        \"description\": \"\"\n      }\n    },\n    {\n      \"column\": \"means\",\n      \"properties\": {\n        \"dtype\": \"number\",\n        \"std\": 0.20613417391328542,\n        \"min\": 0.0009174311926605505,\n        \"max\": 0.47581317764804004,\n        \"num_unique_values\": 5,\n        \"samples\": [\n          0.0032527105921601332\n        ],\n        \"semantic_type\": \"\",\n        \"description\": \"\"\n      }\n    },\n    {\n      \"column\": \"variances\",\n      \"properties\": {\n        \"dtype\": \"number\",\n        \"std\": 0.6149928573489087,\n        \"min\": 0.0009166659652081689,\n        \"max\": 1.4138365019199852,\n        \"num_unique_values\": 5,\n        \"samples\": [\n          0.003409220476011825\n        ],\n        \"semantic_type\": \"\",\n        \"description\": \"\"\n      }\n    },\n    {\n      \"column\": \"variances_norm\",\n      \"properties\": {\n        \"dtype\": \"number\",\n        \"std\": 0.7802364961153716,\n        \"min\": 0.9376318129199968,\n        \"max\": 2.573027012067656,\n        \"num_unique_values\": 5,\n        \"samples\": [\n          0.9454009593425541\n        ],\n        \"semantic_type\": \"\",\n        \"description\": \"\"\n      }\n    }\n  ]\n}"
            }
          },
          "metadata": {},
          "execution_count": 9
        }
      ]
    },
    {
      "cell_type": "code",
      "source": [
        "# metadata of cells\n",
        "ann_data.obs.head()"
      ],
      "metadata": {
        "colab": {
          "base_uri": "https://localhost:8080/",
          "height": 206
        },
        "id": "ptiaxOdmKb43",
        "outputId": "3ba3325a-420a-491a-e610-bb2f2b14fcd6"
      },
      "execution_count": 10,
      "outputs": [
        {
          "output_type": "execute_result",
          "data": {
            "text/plain": [
              "                    n_counts  batch  labels       str_labels        cell_type\n",
              "AAACCTGAGCTAGTGG-1    4520.0      0       2      CD4 T cells      CD4 T cells\n",
              "AAACCTGCACATTAGC-1    2788.0      0       2      CD4 T cells      CD4 T cells\n",
              "AAACCTGCACTGTTAG-1    4667.0      0       1  CD14+ Monocytes  CD14+ Monocytes\n",
              "AAACCTGCATAGTAAG-1    4440.0      0       1  CD14+ Monocytes  CD14+ Monocytes\n",
              "AAACCTGCATGAACCT-1    3224.0      0       3      CD8 T cells      CD8 T cells"
            ],
            "text/html": [
              "\n",
              "  <div id=\"df-3c29f30f-6e6a-4e12-a064-c4b3a567e1ec\" class=\"colab-df-container\">\n",
              "    <div>\n",
              "<style scoped>\n",
              "    .dataframe tbody tr th:only-of-type {\n",
              "        vertical-align: middle;\n",
              "    }\n",
              "\n",
              "    .dataframe tbody tr th {\n",
              "        vertical-align: top;\n",
              "    }\n",
              "\n",
              "    .dataframe thead th {\n",
              "        text-align: right;\n",
              "    }\n",
              "</style>\n",
              "<table border=\"1\" class=\"dataframe\">\n",
              "  <thead>\n",
              "    <tr style=\"text-align: right;\">\n",
              "      <th></th>\n",
              "      <th>n_counts</th>\n",
              "      <th>batch</th>\n",
              "      <th>labels</th>\n",
              "      <th>str_labels</th>\n",
              "      <th>cell_type</th>\n",
              "    </tr>\n",
              "  </thead>\n",
              "  <tbody>\n",
              "    <tr>\n",
              "      <th>AAACCTGAGCTAGTGG-1</th>\n",
              "      <td>4520.0</td>\n",
              "      <td>0</td>\n",
              "      <td>2</td>\n",
              "      <td>CD4 T cells</td>\n",
              "      <td>CD4 T cells</td>\n",
              "    </tr>\n",
              "    <tr>\n",
              "      <th>AAACCTGCACATTAGC-1</th>\n",
              "      <td>2788.0</td>\n",
              "      <td>0</td>\n",
              "      <td>2</td>\n",
              "      <td>CD4 T cells</td>\n",
              "      <td>CD4 T cells</td>\n",
              "    </tr>\n",
              "    <tr>\n",
              "      <th>AAACCTGCACTGTTAG-1</th>\n",
              "      <td>4667.0</td>\n",
              "      <td>0</td>\n",
              "      <td>1</td>\n",
              "      <td>CD14+ Monocytes</td>\n",
              "      <td>CD14+ Monocytes</td>\n",
              "    </tr>\n",
              "    <tr>\n",
              "      <th>AAACCTGCATAGTAAG-1</th>\n",
              "      <td>4440.0</td>\n",
              "      <td>0</td>\n",
              "      <td>1</td>\n",
              "      <td>CD14+ Monocytes</td>\n",
              "      <td>CD14+ Monocytes</td>\n",
              "    </tr>\n",
              "    <tr>\n",
              "      <th>AAACCTGCATGAACCT-1</th>\n",
              "      <td>3224.0</td>\n",
              "      <td>0</td>\n",
              "      <td>3</td>\n",
              "      <td>CD8 T cells</td>\n",
              "      <td>CD8 T cells</td>\n",
              "    </tr>\n",
              "  </tbody>\n",
              "</table>\n",
              "</div>\n",
              "    <div class=\"colab-df-buttons\">\n",
              "\n",
              "  <div class=\"colab-df-container\">\n",
              "    <button class=\"colab-df-convert\" onclick=\"convertToInteractive('df-3c29f30f-6e6a-4e12-a064-c4b3a567e1ec')\"\n",
              "            title=\"Convert this dataframe to an interactive table.\"\n",
              "            style=\"display:none;\">\n",
              "\n",
              "  <svg xmlns=\"http://www.w3.org/2000/svg\" height=\"24px\" viewBox=\"0 -960 960 960\">\n",
              "    <path d=\"M120-120v-720h720v720H120Zm60-500h600v-160H180v160Zm220 220h160v-160H400v160Zm0 220h160v-160H400v160ZM180-400h160v-160H180v160Zm440 0h160v-160H620v160ZM180-180h160v-160H180v160Zm440 0h160v-160H620v160Z\"/>\n",
              "  </svg>\n",
              "    </button>\n",
              "\n",
              "  <style>\n",
              "    .colab-df-container {\n",
              "      display:flex;\n",
              "      gap: 12px;\n",
              "    }\n",
              "\n",
              "    .colab-df-convert {\n",
              "      background-color: #E8F0FE;\n",
              "      border: none;\n",
              "      border-radius: 50%;\n",
              "      cursor: pointer;\n",
              "      display: none;\n",
              "      fill: #1967D2;\n",
              "      height: 32px;\n",
              "      padding: 0 0 0 0;\n",
              "      width: 32px;\n",
              "    }\n",
              "\n",
              "    .colab-df-convert:hover {\n",
              "      background-color: #E2EBFA;\n",
              "      box-shadow: 0px 1px 2px rgba(60, 64, 67, 0.3), 0px 1px 3px 1px rgba(60, 64, 67, 0.15);\n",
              "      fill: #174EA6;\n",
              "    }\n",
              "\n",
              "    .colab-df-buttons div {\n",
              "      margin-bottom: 4px;\n",
              "    }\n",
              "\n",
              "    [theme=dark] .colab-df-convert {\n",
              "      background-color: #3B4455;\n",
              "      fill: #D2E3FC;\n",
              "    }\n",
              "\n",
              "    [theme=dark] .colab-df-convert:hover {\n",
              "      background-color: #434B5C;\n",
              "      box-shadow: 0px 1px 3px 1px rgba(0, 0, 0, 0.15);\n",
              "      filter: drop-shadow(0px 1px 2px rgba(0, 0, 0, 0.3));\n",
              "      fill: #FFFFFF;\n",
              "    }\n",
              "  </style>\n",
              "\n",
              "    <script>\n",
              "      const buttonEl =\n",
              "        document.querySelector('#df-3c29f30f-6e6a-4e12-a064-c4b3a567e1ec button.colab-df-convert');\n",
              "      buttonEl.style.display =\n",
              "        google.colab.kernel.accessAllowed ? 'block' : 'none';\n",
              "\n",
              "      async function convertToInteractive(key) {\n",
              "        const element = document.querySelector('#df-3c29f30f-6e6a-4e12-a064-c4b3a567e1ec');\n",
              "        const dataTable =\n",
              "          await google.colab.kernel.invokeFunction('convertToInteractive',\n",
              "                                                    [key], {});\n",
              "        if (!dataTable) return;\n",
              "\n",
              "        const docLinkHtml = 'Like what you see? Visit the ' +\n",
              "          '<a target=\"_blank\" href=https://colab.research.google.com/notebooks/data_table.ipynb>data table notebook</a>'\n",
              "          + ' to learn more about interactive tables.';\n",
              "        element.innerHTML = '';\n",
              "        dataTable['output_type'] = 'display_data';\n",
              "        await google.colab.output.renderOutput(dataTable, element);\n",
              "        const docLink = document.createElement('div');\n",
              "        docLink.innerHTML = docLinkHtml;\n",
              "        element.appendChild(docLink);\n",
              "      }\n",
              "    </script>\n",
              "  </div>\n",
              "\n",
              "\n",
              "<div id=\"df-b53baddd-ef86-4982-af5e-f34b6214b3bc\">\n",
              "  <button class=\"colab-df-quickchart\" onclick=\"quickchart('df-b53baddd-ef86-4982-af5e-f34b6214b3bc')\"\n",
              "            title=\"Suggest charts\"\n",
              "            style=\"display:none;\">\n",
              "\n",
              "<svg xmlns=\"http://www.w3.org/2000/svg\" height=\"24px\"viewBox=\"0 0 24 24\"\n",
              "     width=\"24px\">\n",
              "    <g>\n",
              "        <path d=\"M19 3H5c-1.1 0-2 .9-2 2v14c0 1.1.9 2 2 2h14c1.1 0 2-.9 2-2V5c0-1.1-.9-2-2-2zM9 17H7v-7h2v7zm4 0h-2V7h2v10zm4 0h-2v-4h2v4z\"/>\n",
              "    </g>\n",
              "</svg>\n",
              "  </button>\n",
              "\n",
              "<style>\n",
              "  .colab-df-quickchart {\n",
              "      --bg-color: #E8F0FE;\n",
              "      --fill-color: #1967D2;\n",
              "      --hover-bg-color: #E2EBFA;\n",
              "      --hover-fill-color: #174EA6;\n",
              "      --disabled-fill-color: #AAA;\n",
              "      --disabled-bg-color: #DDD;\n",
              "  }\n",
              "\n",
              "  [theme=dark] .colab-df-quickchart {\n",
              "      --bg-color: #3B4455;\n",
              "      --fill-color: #D2E3FC;\n",
              "      --hover-bg-color: #434B5C;\n",
              "      --hover-fill-color: #FFFFFF;\n",
              "      --disabled-bg-color: #3B4455;\n",
              "      --disabled-fill-color: #666;\n",
              "  }\n",
              "\n",
              "  .colab-df-quickchart {\n",
              "    background-color: var(--bg-color);\n",
              "    border: none;\n",
              "    border-radius: 50%;\n",
              "    cursor: pointer;\n",
              "    display: none;\n",
              "    fill: var(--fill-color);\n",
              "    height: 32px;\n",
              "    padding: 0;\n",
              "    width: 32px;\n",
              "  }\n",
              "\n",
              "  .colab-df-quickchart:hover {\n",
              "    background-color: var(--hover-bg-color);\n",
              "    box-shadow: 0 1px 2px rgba(60, 64, 67, 0.3), 0 1px 3px 1px rgba(60, 64, 67, 0.15);\n",
              "    fill: var(--button-hover-fill-color);\n",
              "  }\n",
              "\n",
              "  .colab-df-quickchart-complete:disabled,\n",
              "  .colab-df-quickchart-complete:disabled:hover {\n",
              "    background-color: var(--disabled-bg-color);\n",
              "    fill: var(--disabled-fill-color);\n",
              "    box-shadow: none;\n",
              "  }\n",
              "\n",
              "  .colab-df-spinner {\n",
              "    border: 2px solid var(--fill-color);\n",
              "    border-color: transparent;\n",
              "    border-bottom-color: var(--fill-color);\n",
              "    animation:\n",
              "      spin 1s steps(1) infinite;\n",
              "  }\n",
              "\n",
              "  @keyframes spin {\n",
              "    0% {\n",
              "      border-color: transparent;\n",
              "      border-bottom-color: var(--fill-color);\n",
              "      border-left-color: var(--fill-color);\n",
              "    }\n",
              "    20% {\n",
              "      border-color: transparent;\n",
              "      border-left-color: var(--fill-color);\n",
              "      border-top-color: var(--fill-color);\n",
              "    }\n",
              "    30% {\n",
              "      border-color: transparent;\n",
              "      border-left-color: var(--fill-color);\n",
              "      border-top-color: var(--fill-color);\n",
              "      border-right-color: var(--fill-color);\n",
              "    }\n",
              "    40% {\n",
              "      border-color: transparent;\n",
              "      border-right-color: var(--fill-color);\n",
              "      border-top-color: var(--fill-color);\n",
              "    }\n",
              "    60% {\n",
              "      border-color: transparent;\n",
              "      border-right-color: var(--fill-color);\n",
              "    }\n",
              "    80% {\n",
              "      border-color: transparent;\n",
              "      border-right-color: var(--fill-color);\n",
              "      border-bottom-color: var(--fill-color);\n",
              "    }\n",
              "    90% {\n",
              "      border-color: transparent;\n",
              "      border-bottom-color: var(--fill-color);\n",
              "    }\n",
              "  }\n",
              "</style>\n",
              "\n",
              "  <script>\n",
              "    async function quickchart(key) {\n",
              "      const quickchartButtonEl =\n",
              "        document.querySelector('#' + key + ' button');\n",
              "      quickchartButtonEl.disabled = true;  // To prevent multiple clicks.\n",
              "      quickchartButtonEl.classList.add('colab-df-spinner');\n",
              "      try {\n",
              "        const charts = await google.colab.kernel.invokeFunction(\n",
              "            'suggestCharts', [key], {});\n",
              "      } catch (error) {\n",
              "        console.error('Error during call to suggestCharts:', error);\n",
              "      }\n",
              "      quickchartButtonEl.classList.remove('colab-df-spinner');\n",
              "      quickchartButtonEl.classList.add('colab-df-quickchart-complete');\n",
              "    }\n",
              "    (() => {\n",
              "      let quickchartButtonEl =\n",
              "        document.querySelector('#df-b53baddd-ef86-4982-af5e-f34b6214b3bc button');\n",
              "      quickchartButtonEl.style.display =\n",
              "        google.colab.kernel.accessAllowed ? 'block' : 'none';\n",
              "    })();\n",
              "  </script>\n",
              "</div>\n",
              "\n",
              "    </div>\n",
              "  </div>\n"
            ],
            "application/vnd.google.colaboratory.intrinsic+json": {
              "type": "dataframe",
              "summary": "{\n  \"name\": \"ann_data\",\n  \"rows\": 5,\n  \"fields\": [\n    {\n      \"column\": \"n_counts\",\n      \"properties\": {\n        \"dtype\": \"float32\",\n        \"num_unique_values\": 5,\n        \"samples\": [\n          2788.0,\n          3224.0,\n          4667.0\n        ],\n        \"semantic_type\": \"\",\n        \"description\": \"\"\n      }\n    },\n    {\n      \"column\": \"batch\",\n      \"properties\": {\n        \"dtype\": \"number\",\n        \"std\": 0,\n        \"min\": 0,\n        \"max\": 0,\n        \"num_unique_values\": 1,\n        \"samples\": [\n          0\n        ],\n        \"semantic_type\": \"\",\n        \"description\": \"\"\n      }\n    },\n    {\n      \"column\": \"labels\",\n      \"properties\": {\n        \"dtype\": \"number\",\n        \"std\": 0,\n        \"min\": 1,\n        \"max\": 3,\n        \"num_unique_values\": 3,\n        \"samples\": [\n          2\n        ],\n        \"semantic_type\": \"\",\n        \"description\": \"\"\n      }\n    },\n    {\n      \"column\": \"str_labels\",\n      \"properties\": {\n        \"dtype\": \"category\",\n        \"num_unique_values\": 3,\n        \"samples\": [\n          \"CD4 T cells\"\n        ],\n        \"semantic_type\": \"\",\n        \"description\": \"\"\n      }\n    },\n    {\n      \"column\": \"cell_type\",\n      \"properties\": {\n        \"dtype\": \"category\",\n        \"num_unique_values\": 3,\n        \"samples\": [\n          \"CD4 T cells\"\n        ],\n        \"semantic_type\": \"\",\n        \"description\": \"\"\n      }\n    }\n  ]\n}"
            }
          },
          "metadata": {},
          "execution_count": 10
        }
      ]
    },
    {
      "cell_type": "code",
      "source": [
        "import pandas as pd\n",
        "# matrix of cells x gene counts\n",
        "df = pd.DataFrame(ann_data.X.toarray(), index=ann_data.obs_names, columns=ann_data.var_names)\n",
        "df.head()"
      ],
      "metadata": {
        "colab": {
          "base_uri": "https://localhost:8080/",
          "height": 360
        },
        "id": "ziksMjzlGX55",
        "outputId": "cb387479-61ed-4788-b5ae-1d73aa2b83b8"
      },
      "execution_count": 11,
      "outputs": [
        {
          "output_type": "execute_result",
          "data": {
            "text/plain": [
              "                    SAMD11  PLEKHN1  HES4  ISG15  AGRN  C1orf159  TTLL10  \\\n",
              "AAACCTGAGCTAGTGG-1     0.0      0.0   0.0    1.0   0.0       0.0     0.0   \n",
              "AAACCTGCACATTAGC-1     0.0      0.0   0.0    0.0   0.0       0.0     0.0   \n",
              "AAACCTGCACTGTTAG-1     0.0      0.0   0.0    0.0   0.0       0.0     0.0   \n",
              "AAACCTGCATAGTAAG-1     0.0      0.0   0.0    0.0   0.0       0.0     0.0   \n",
              "AAACCTGCATGAACCT-1     0.0      0.0   0.0    0.0   0.0       0.0     0.0   \n",
              "\n",
              "                    TNFRSF18  TNFRSF4  SDF4  ...  S100B  PRMT2  MT-ND1  \\\n",
              "AAACCTGAGCTAGTGG-1       0.0      4.0   0.0  ...    0.0    1.0     7.0   \n",
              "AAACCTGCACATTAGC-1       0.0      0.0   1.0  ...    0.0    0.0     4.0   \n",
              "AAACCTGCACTGTTAG-1       0.0      0.0   0.0  ...    0.0    1.0     7.0   \n",
              "AAACCTGCATAGTAAG-1       0.0      0.0   1.0  ...    0.0    0.0     6.0   \n",
              "AAACCTGCATGAACCT-1       0.0      0.0   0.0  ...    0.0    0.0     9.0   \n",
              "\n",
              "                    MT-CO1  MT-CO2  MT-ATP8  MT-ATP6  MT-CO3  MT-ND4  MT-ND6  \n",
              "AAACCTGAGCTAGTGG-1    15.0     9.0      0.0      1.0    14.0     8.0     0.0  \n",
              "AAACCTGCACATTAGC-1     3.0     6.0      0.0      3.0     6.0     4.0     1.0  \n",
              "AAACCTGCACTGTTAG-1    37.0    25.0      0.0     10.0    23.0    19.0     0.0  \n",
              "AAACCTGCATAGTAAG-1    48.0    25.0      0.0     16.0    22.0    15.0     0.0  \n",
              "AAACCTGCATGAACCT-1    19.0    16.0      0.0     10.0    13.0    17.0     0.0  \n",
              "\n",
              "[5 rows x 12000 columns]"
            ],
            "text/html": [
              "\n",
              "  <div id=\"df-6319be34-2d4a-4fc1-9544-04683b380c25\" class=\"colab-df-container\">\n",
              "    <div>\n",
              "<style scoped>\n",
              "    .dataframe tbody tr th:only-of-type {\n",
              "        vertical-align: middle;\n",
              "    }\n",
              "\n",
              "    .dataframe tbody tr th {\n",
              "        vertical-align: top;\n",
              "    }\n",
              "\n",
              "    .dataframe thead th {\n",
              "        text-align: right;\n",
              "    }\n",
              "</style>\n",
              "<table border=\"1\" class=\"dataframe\">\n",
              "  <thead>\n",
              "    <tr style=\"text-align: right;\">\n",
              "      <th></th>\n",
              "      <th>SAMD11</th>\n",
              "      <th>PLEKHN1</th>\n",
              "      <th>HES4</th>\n",
              "      <th>ISG15</th>\n",
              "      <th>AGRN</th>\n",
              "      <th>C1orf159</th>\n",
              "      <th>TTLL10</th>\n",
              "      <th>TNFRSF18</th>\n",
              "      <th>TNFRSF4</th>\n",
              "      <th>SDF4</th>\n",
              "      <th>...</th>\n",
              "      <th>S100B</th>\n",
              "      <th>PRMT2</th>\n",
              "      <th>MT-ND1</th>\n",
              "      <th>MT-CO1</th>\n",
              "      <th>MT-CO2</th>\n",
              "      <th>MT-ATP8</th>\n",
              "      <th>MT-ATP6</th>\n",
              "      <th>MT-CO3</th>\n",
              "      <th>MT-ND4</th>\n",
              "      <th>MT-ND6</th>\n",
              "    </tr>\n",
              "  </thead>\n",
              "  <tbody>\n",
              "    <tr>\n",
              "      <th>AAACCTGAGCTAGTGG-1</th>\n",
              "      <td>0.0</td>\n",
              "      <td>0.0</td>\n",
              "      <td>0.0</td>\n",
              "      <td>1.0</td>\n",
              "      <td>0.0</td>\n",
              "      <td>0.0</td>\n",
              "      <td>0.0</td>\n",
              "      <td>0.0</td>\n",
              "      <td>4.0</td>\n",
              "      <td>0.0</td>\n",
              "      <td>...</td>\n",
              "      <td>0.0</td>\n",
              "      <td>1.0</td>\n",
              "      <td>7.0</td>\n",
              "      <td>15.0</td>\n",
              "      <td>9.0</td>\n",
              "      <td>0.0</td>\n",
              "      <td>1.0</td>\n",
              "      <td>14.0</td>\n",
              "      <td>8.0</td>\n",
              "      <td>0.0</td>\n",
              "    </tr>\n",
              "    <tr>\n",
              "      <th>AAACCTGCACATTAGC-1</th>\n",
              "      <td>0.0</td>\n",
              "      <td>0.0</td>\n",
              "      <td>0.0</td>\n",
              "      <td>0.0</td>\n",
              "      <td>0.0</td>\n",
              "      <td>0.0</td>\n",
              "      <td>0.0</td>\n",
              "      <td>0.0</td>\n",
              "      <td>0.0</td>\n",
              "      <td>1.0</td>\n",
              "      <td>...</td>\n",
              "      <td>0.0</td>\n",
              "      <td>0.0</td>\n",
              "      <td>4.0</td>\n",
              "      <td>3.0</td>\n",
              "      <td>6.0</td>\n",
              "      <td>0.0</td>\n",
              "      <td>3.0</td>\n",
              "      <td>6.0</td>\n",
              "      <td>4.0</td>\n",
              "      <td>1.0</td>\n",
              "    </tr>\n",
              "    <tr>\n",
              "      <th>AAACCTGCACTGTTAG-1</th>\n",
              "      <td>0.0</td>\n",
              "      <td>0.0</td>\n",
              "      <td>0.0</td>\n",
              "      <td>0.0</td>\n",
              "      <td>0.0</td>\n",
              "      <td>0.0</td>\n",
              "      <td>0.0</td>\n",
              "      <td>0.0</td>\n",
              "      <td>0.0</td>\n",
              "      <td>0.0</td>\n",
              "      <td>...</td>\n",
              "      <td>0.0</td>\n",
              "      <td>1.0</td>\n",
              "      <td>7.0</td>\n",
              "      <td>37.0</td>\n",
              "      <td>25.0</td>\n",
              "      <td>0.0</td>\n",
              "      <td>10.0</td>\n",
              "      <td>23.0</td>\n",
              "      <td>19.0</td>\n",
              "      <td>0.0</td>\n",
              "    </tr>\n",
              "    <tr>\n",
              "      <th>AAACCTGCATAGTAAG-1</th>\n",
              "      <td>0.0</td>\n",
              "      <td>0.0</td>\n",
              "      <td>0.0</td>\n",
              "      <td>0.0</td>\n",
              "      <td>0.0</td>\n",
              "      <td>0.0</td>\n",
              "      <td>0.0</td>\n",
              "      <td>0.0</td>\n",
              "      <td>0.0</td>\n",
              "      <td>1.0</td>\n",
              "      <td>...</td>\n",
              "      <td>0.0</td>\n",
              "      <td>0.0</td>\n",
              "      <td>6.0</td>\n",
              "      <td>48.0</td>\n",
              "      <td>25.0</td>\n",
              "      <td>0.0</td>\n",
              "      <td>16.0</td>\n",
              "      <td>22.0</td>\n",
              "      <td>15.0</td>\n",
              "      <td>0.0</td>\n",
              "    </tr>\n",
              "    <tr>\n",
              "      <th>AAACCTGCATGAACCT-1</th>\n",
              "      <td>0.0</td>\n",
              "      <td>0.0</td>\n",
              "      <td>0.0</td>\n",
              "      <td>0.0</td>\n",
              "      <td>0.0</td>\n",
              "      <td>0.0</td>\n",
              "      <td>0.0</td>\n",
              "      <td>0.0</td>\n",
              "      <td>0.0</td>\n",
              "      <td>0.0</td>\n",
              "      <td>...</td>\n",
              "      <td>0.0</td>\n",
              "      <td>0.0</td>\n",
              "      <td>9.0</td>\n",
              "      <td>19.0</td>\n",
              "      <td>16.0</td>\n",
              "      <td>0.0</td>\n",
              "      <td>10.0</td>\n",
              "      <td>13.0</td>\n",
              "      <td>17.0</td>\n",
              "      <td>0.0</td>\n",
              "    </tr>\n",
              "  </tbody>\n",
              "</table>\n",
              "<p>5 rows × 12000 columns</p>\n",
              "</div>\n",
              "    <div class=\"colab-df-buttons\">\n",
              "\n",
              "  <div class=\"colab-df-container\">\n",
              "    <button class=\"colab-df-convert\" onclick=\"convertToInteractive('df-6319be34-2d4a-4fc1-9544-04683b380c25')\"\n",
              "            title=\"Convert this dataframe to an interactive table.\"\n",
              "            style=\"display:none;\">\n",
              "\n",
              "  <svg xmlns=\"http://www.w3.org/2000/svg\" height=\"24px\" viewBox=\"0 -960 960 960\">\n",
              "    <path d=\"M120-120v-720h720v720H120Zm60-500h600v-160H180v160Zm220 220h160v-160H400v160Zm0 220h160v-160H400v160ZM180-400h160v-160H180v160Zm440 0h160v-160H620v160ZM180-180h160v-160H180v160Zm440 0h160v-160H620v160Z\"/>\n",
              "  </svg>\n",
              "    </button>\n",
              "\n",
              "  <style>\n",
              "    .colab-df-container {\n",
              "      display:flex;\n",
              "      gap: 12px;\n",
              "    }\n",
              "\n",
              "    .colab-df-convert {\n",
              "      background-color: #E8F0FE;\n",
              "      border: none;\n",
              "      border-radius: 50%;\n",
              "      cursor: pointer;\n",
              "      display: none;\n",
              "      fill: #1967D2;\n",
              "      height: 32px;\n",
              "      padding: 0 0 0 0;\n",
              "      width: 32px;\n",
              "    }\n",
              "\n",
              "    .colab-df-convert:hover {\n",
              "      background-color: #E2EBFA;\n",
              "      box-shadow: 0px 1px 2px rgba(60, 64, 67, 0.3), 0px 1px 3px 1px rgba(60, 64, 67, 0.15);\n",
              "      fill: #174EA6;\n",
              "    }\n",
              "\n",
              "    .colab-df-buttons div {\n",
              "      margin-bottom: 4px;\n",
              "    }\n",
              "\n",
              "    [theme=dark] .colab-df-convert {\n",
              "      background-color: #3B4455;\n",
              "      fill: #D2E3FC;\n",
              "    }\n",
              "\n",
              "    [theme=dark] .colab-df-convert:hover {\n",
              "      background-color: #434B5C;\n",
              "      box-shadow: 0px 1px 3px 1px rgba(0, 0, 0, 0.15);\n",
              "      filter: drop-shadow(0px 1px 2px rgba(0, 0, 0, 0.3));\n",
              "      fill: #FFFFFF;\n",
              "    }\n",
              "  </style>\n",
              "\n",
              "    <script>\n",
              "      const buttonEl =\n",
              "        document.querySelector('#df-6319be34-2d4a-4fc1-9544-04683b380c25 button.colab-df-convert');\n",
              "      buttonEl.style.display =\n",
              "        google.colab.kernel.accessAllowed ? 'block' : 'none';\n",
              "\n",
              "      async function convertToInteractive(key) {\n",
              "        const element = document.querySelector('#df-6319be34-2d4a-4fc1-9544-04683b380c25');\n",
              "        const dataTable =\n",
              "          await google.colab.kernel.invokeFunction('convertToInteractive',\n",
              "                                                    [key], {});\n",
              "        if (!dataTable) return;\n",
              "\n",
              "        const docLinkHtml = 'Like what you see? Visit the ' +\n",
              "          '<a target=\"_blank\" href=https://colab.research.google.com/notebooks/data_table.ipynb>data table notebook</a>'\n",
              "          + ' to learn more about interactive tables.';\n",
              "        element.innerHTML = '';\n",
              "        dataTable['output_type'] = 'display_data';\n",
              "        await google.colab.output.renderOutput(dataTable, element);\n",
              "        const docLink = document.createElement('div');\n",
              "        docLink.innerHTML = docLinkHtml;\n",
              "        element.appendChild(docLink);\n",
              "      }\n",
              "    </script>\n",
              "  </div>\n",
              "\n",
              "\n",
              "<div id=\"df-0d95f29a-af25-4d8c-9413-39a2a7b81698\">\n",
              "  <button class=\"colab-df-quickchart\" onclick=\"quickchart('df-0d95f29a-af25-4d8c-9413-39a2a7b81698')\"\n",
              "            title=\"Suggest charts\"\n",
              "            style=\"display:none;\">\n",
              "\n",
              "<svg xmlns=\"http://www.w3.org/2000/svg\" height=\"24px\"viewBox=\"0 0 24 24\"\n",
              "     width=\"24px\">\n",
              "    <g>\n",
              "        <path d=\"M19 3H5c-1.1 0-2 .9-2 2v14c0 1.1.9 2 2 2h14c1.1 0 2-.9 2-2V5c0-1.1-.9-2-2-2zM9 17H7v-7h2v7zm4 0h-2V7h2v10zm4 0h-2v-4h2v4z\"/>\n",
              "    </g>\n",
              "</svg>\n",
              "  </button>\n",
              "\n",
              "<style>\n",
              "  .colab-df-quickchart {\n",
              "      --bg-color: #E8F0FE;\n",
              "      --fill-color: #1967D2;\n",
              "      --hover-bg-color: #E2EBFA;\n",
              "      --hover-fill-color: #174EA6;\n",
              "      --disabled-fill-color: #AAA;\n",
              "      --disabled-bg-color: #DDD;\n",
              "  }\n",
              "\n",
              "  [theme=dark] .colab-df-quickchart {\n",
              "      --bg-color: #3B4455;\n",
              "      --fill-color: #D2E3FC;\n",
              "      --hover-bg-color: #434B5C;\n",
              "      --hover-fill-color: #FFFFFF;\n",
              "      --disabled-bg-color: #3B4455;\n",
              "      --disabled-fill-color: #666;\n",
              "  }\n",
              "\n",
              "  .colab-df-quickchart {\n",
              "    background-color: var(--bg-color);\n",
              "    border: none;\n",
              "    border-radius: 50%;\n",
              "    cursor: pointer;\n",
              "    display: none;\n",
              "    fill: var(--fill-color);\n",
              "    height: 32px;\n",
              "    padding: 0;\n",
              "    width: 32px;\n",
              "  }\n",
              "\n",
              "  .colab-df-quickchart:hover {\n",
              "    background-color: var(--hover-bg-color);\n",
              "    box-shadow: 0 1px 2px rgba(60, 64, 67, 0.3), 0 1px 3px 1px rgba(60, 64, 67, 0.15);\n",
              "    fill: var(--button-hover-fill-color);\n",
              "  }\n",
              "\n",
              "  .colab-df-quickchart-complete:disabled,\n",
              "  .colab-df-quickchart-complete:disabled:hover {\n",
              "    background-color: var(--disabled-bg-color);\n",
              "    fill: var(--disabled-fill-color);\n",
              "    box-shadow: none;\n",
              "  }\n",
              "\n",
              "  .colab-df-spinner {\n",
              "    border: 2px solid var(--fill-color);\n",
              "    border-color: transparent;\n",
              "    border-bottom-color: var(--fill-color);\n",
              "    animation:\n",
              "      spin 1s steps(1) infinite;\n",
              "  }\n",
              "\n",
              "  @keyframes spin {\n",
              "    0% {\n",
              "      border-color: transparent;\n",
              "      border-bottom-color: var(--fill-color);\n",
              "      border-left-color: var(--fill-color);\n",
              "    }\n",
              "    20% {\n",
              "      border-color: transparent;\n",
              "      border-left-color: var(--fill-color);\n",
              "      border-top-color: var(--fill-color);\n",
              "    }\n",
              "    30% {\n",
              "      border-color: transparent;\n",
              "      border-left-color: var(--fill-color);\n",
              "      border-top-color: var(--fill-color);\n",
              "      border-right-color: var(--fill-color);\n",
              "    }\n",
              "    40% {\n",
              "      border-color: transparent;\n",
              "      border-right-color: var(--fill-color);\n",
              "      border-top-color: var(--fill-color);\n",
              "    }\n",
              "    60% {\n",
              "      border-color: transparent;\n",
              "      border-right-color: var(--fill-color);\n",
              "    }\n",
              "    80% {\n",
              "      border-color: transparent;\n",
              "      border-right-color: var(--fill-color);\n",
              "      border-bottom-color: var(--fill-color);\n",
              "    }\n",
              "    90% {\n",
              "      border-color: transparent;\n",
              "      border-bottom-color: var(--fill-color);\n",
              "    }\n",
              "  }\n",
              "</style>\n",
              "\n",
              "  <script>\n",
              "    async function quickchart(key) {\n",
              "      const quickchartButtonEl =\n",
              "        document.querySelector('#' + key + ' button');\n",
              "      quickchartButtonEl.disabled = true;  // To prevent multiple clicks.\n",
              "      quickchartButtonEl.classList.add('colab-df-spinner');\n",
              "      try {\n",
              "        const charts = await google.colab.kernel.invokeFunction(\n",
              "            'suggestCharts', [key], {});\n",
              "      } catch (error) {\n",
              "        console.error('Error during call to suggestCharts:', error);\n",
              "      }\n",
              "      quickchartButtonEl.classList.remove('colab-df-spinner');\n",
              "      quickchartButtonEl.classList.add('colab-df-quickchart-complete');\n",
              "    }\n",
              "    (() => {\n",
              "      let quickchartButtonEl =\n",
              "        document.querySelector('#df-0d95f29a-af25-4d8c-9413-39a2a7b81698 button');\n",
              "      quickchartButtonEl.style.display =\n",
              "        google.colab.kernel.accessAllowed ? 'block' : 'none';\n",
              "    })();\n",
              "  </script>\n",
              "</div>\n",
              "\n",
              "    </div>\n",
              "  </div>\n"
            ],
            "application/vnd.google.colaboratory.intrinsic+json": {
              "type": "dataframe",
              "variable_name": "df"
            }
          },
          "metadata": {},
          "execution_count": 11
        }
      ]
    },
    {
      "cell_type": "markdown",
      "source": [
        "## Apply knockout perturbation & generate embeddings"
      ],
      "metadata": {
        "id": "lmwvrI9SmVW8"
      }
    },
    {
      "cell_type": "code",
      "source": [
        "def perturb_data(ann_data, kgenes, cell_type=None):\n",
        "    \"\"\"\n",
        "    Perturbs gene expression of specific cell types by knocking out specified genes (gene symbols).\n",
        "    Params:\n",
        "    - ann_data: AnnData object containing single-cell expression data.\n",
        "    - kgenes: List of genes to knock out.\n",
        "    - cell_type: List of cell types to perturb. Default is None (perturb all cells)\n",
        "    Returns:\n",
        "    - p_ann_data: AnnData object with perturbed gene expression.\n",
        "    \"\"\"\n",
        "    p_ann_data = ann_data.copy()\n",
        "    gene_indices = [ann_data.var_names.get_loc(gene) for gene in kgenes]\n",
        "    if cell_type is None: # knock out genes in all cells\n",
        "        p_ann_data.X[:, gene_indices] = 0\n",
        "    else:\n",
        "        for ctype in cell_type:\n",
        "            cells2perturb = ann_data.obs[ann_data.obs['cell_type'] == ctype].index.to_list()\n",
        "            cell_indices = [ann_data.obs_names.get_loc(cell) for cell in cells2perturb]\n",
        "            # Set the expression of the specified genes to zero in the specified cells\n",
        "            p_ann_data.X[gene_indices,:][:,cell_indices] = 0\n",
        "    return p_ann_data"
      ],
      "metadata": {
        "id": "7ZskxRmEMCPF"
      },
      "execution_count": 33,
      "outputs": []
    },
    {
      "cell_type": "code",
      "source": [
        "# let's knockout 50% of genes (random, first k genes in dataset)\n",
        "k=0.9\n",
        "kgenes = ann_data.var[\"gene_symbols\"][0:int(len(ann_data.var[\"gene_symbols\"])*k)].to_list()\n",
        "print(len(kgenes)) # 6000\n",
        "print(kgenes[0:10])"
      ],
      "metadata": {
        "colab": {
          "base_uri": "https://localhost:8080/"
        },
        "id": "4LycDwBpTi2p",
        "outputId": "3ed1cca4-470b-4690-dc3e-ae7bdd360b2b"
      },
      "execution_count": 41,
      "outputs": [
        {
          "output_type": "stream",
          "name": "stdout",
          "text": [
            "10800\n",
            "['SAMD11', 'PLEKHN1', 'HES4', 'ISG15', 'AGRN', 'C1orf159', 'TTLL10', 'TNFRSF18', 'TNFRSF4', 'SDF4']\n"
          ]
        }
      ]
    },
    {
      "cell_type": "code",
      "source": [
        "# Create perturbed data knocking out genes in specific cell types\n",
        "cell_types = ['CD4 T cells', 'B cells']\n",
        "p_ann_data = perturb_data(ann_data, kgenes, cell_types)"
      ],
      "metadata": {
        "colab": {
          "base_uri": "https://localhost:8080/"
        },
        "id": "XAtKk7THLoox",
        "outputId": "d411a6d7-cc17-4337-eef4-849aa644c480"
      },
      "execution_count": 42,
      "outputs": [
        {
          "output_type": "stream",
          "name": "stderr",
          "text": [
            "/usr/local/lib/python3.10/dist-packages/scipy/sparse/_index.py:151: SparseEfficiencyWarning: Changing the sparsity structure of a csr_matrix is expensive. lil_matrix is more efficient.\n",
            "  self._set_arrayXarray(i, j, x)\n"
          ]
        }
      ]
    },
    {
      "cell_type": "code",
      "source": [
        "# generate embeddings\n",
        "dataset = scgpt.process_data(ann_data, gene_names=\"gene_symbols\")\n",
        "p_dataset = scgpt.process_data(p_ann_data, gene_names=\"gene_symbols\")\n",
        "\n",
        "embeddings = scgpt.get_embeddings(dataset)\n",
        "p_embeddings = scgpt.get_embeddings(p_dataset)\n",
        "print(embeddings.shape)\n",
        "print(p_embeddings.shape)"
      ],
      "metadata": {
        "colab": {
          "base_uri": "https://localhost:8080/"
        },
        "id": "4cYc1bFkQr5v",
        "outputId": "5e09e1e2-eda2-40cd-a4af-2a150ec99630"
      },
      "execution_count": 43,
      "outputs": [
        {
          "output_type": "stream",
          "name": "stderr",
          "text": [
            "Embedding cells: 100%|██████████| 188/188 [01:54<00:00,  1.65it/s]\n",
            "Embedding cells: 100%|██████████| 188/188 [01:58<00:00,  1.59it/s]"
          ]
        },
        {
          "output_type": "stream",
          "name": "stdout",
          "text": [
            "(11990, 512)\n",
            "(11990, 512)\n"
          ]
        },
        {
          "output_type": "stream",
          "name": "stderr",
          "text": [
            "\n"
          ]
        }
      ]
    },
    {
      "cell_type": "markdown",
      "source": [
        "The embeddings of the original and perturbed cells have the same shape."
      ],
      "metadata": {
        "id": "_hvny6NyweW8"
      }
    },
    {
      "cell_type": "markdown",
      "source": [
        "## Visualization of original and perturbed embeddings\n",
        "\n",
        "Here embeddings are plotted by reducing their dimensionality from 512 to 2 (axes) with UMAP.  The embeddings are also compared via two distance metrics: euclidean and cosine distance.\n"
      ],
      "metadata": {
        "id": "axzAhBxglTI1"
      }
    },
    {
      "cell_type": "code",
      "source": [
        "# Generate labels: 0 for original, 1 for perturbed\n",
        "original_labels = np.zeros(embeddings.shape[0])\n",
        "perturbed_labels = np.ones(p_embeddings.shape[0])\n",
        "\n",
        "# Combine embeddings and labels\n",
        "combined_embeddings = np.vstack((embeddings, p_embeddings))\n",
        "combined_labels = np.concatenate((original_labels, perturbed_labels))\n",
        "print(combined_embeddings.shape)\n",
        "print(combined_labels.shape)"
      ],
      "metadata": {
        "colab": {
          "base_uri": "https://localhost:8080/"
        },
        "id": "mL-p0K2PeUAz",
        "outputId": "eb5f3e7e-6de6-43df-86f2-06428e8fbc45"
      },
      "execution_count": 44,
      "outputs": [
        {
          "output_type": "stream",
          "name": "stdout",
          "text": [
            "(23980, 512)\n",
            "(23980,)\n"
          ]
        }
      ]
    },
    {
      "cell_type": "code",
      "source": [
        "# visualize embeddings through UMAP 2-dim-reduced representation\n",
        "umap_reducer = umap.UMAP(n_components=2, random_state=42)\n",
        "umap_rep = umap_reducer.fit_transform(combined_embeddings)"
      ],
      "metadata": {
        "colab": {
          "base_uri": "https://localhost:8080/"
        },
        "id": "XzobpyGzdAIP",
        "outputId": "afd1ab2c-0544-48c4-fede-10dfd0d0ffe3"
      },
      "execution_count": 45,
      "outputs": [
        {
          "output_type": "stream",
          "name": "stderr",
          "text": [
            "/usr/local/lib/python3.10/dist-packages/umap/umap_.py:1945: UserWarning: n_jobs value 1 overridden to 1 by setting random_state. Use no seed for parallelism.\n",
            "  warn(f\"n_jobs value {self.n_jobs} overridden to 1 by setting random_state. Use no seed for parallelism.\")\n"
          ]
        }
      ]
    },
    {
      "cell_type": "code",
      "source": [
        "# plot UMAP\n",
        "plt.figure(figsize=(10, 7))\n",
        "plt.scatter(umap_rep[combined_labels == 0, 0], umap_rep[combined_labels == 0, 1], label='Original embeddings', alpha=0.65)\n",
        "plt.scatter(umap_rep[combined_labels == 1, 0], umap_rep[combined_labels == 1, 1], label='Perturbed embeddings', alpha=0.65)\n",
        "plt.xlabel('UMAP dim1')\n",
        "plt.ylabel('UMAP dim2')\n",
        "plt.legend()\n",
        "plt.title('UMAP of original and perturbed mbeddings')\n",
        "plt.show()\n"
      ],
      "metadata": {
        "colab": {
          "base_uri": "https://localhost:8080/",
          "height": 729
        },
        "id": "G3bIoU3Pg6KJ",
        "outputId": "5572a418-ff26-41af-fefb-4987951c584a"
      },
      "execution_count": 46,
      "outputs": [
        {
          "output_type": "stream",
          "name": "stderr",
          "text": [
            "/usr/local/lib/python3.10/dist-packages/ipykernel/ipkernel.py:283: DeprecationWarning: `should_run_async` will not call `transform_cell` automatically in the future. Please pass the result to `transformed_cell` argument and any exception that happen during thetransform in `preprocessing_exc_tuple` in IPython 7.17 and above.\n",
            "  and should_run_async(code)\n"
          ]
        },
        {
          "output_type": "display_data",
          "data": {
            "text/plain": [
              "<Figure size 1000x700 with 1 Axes>"
            ],
            "image/png": "[encoded data removed]"
          },
          "metadata": {}
        }
      ]
    },
    {
      "cell_type": "markdown",
      "source": [
        "Visually, it seems that the knockouts on the specific cells selected have little impact in the embeddings (at least in the low dimensional UMAP space). Let's see with the euclidean and cosine distances:"
      ],
      "metadata": {
        "id": "o51P2IZUnxIB"
      }
    },
    {
      "cell_type": "code",
      "source": [
        "from scipy.spatial.distance import euclidean, cosine\n",
        "\n",
        "# Calculate pairwise distances\n",
        "euclidean_distances = [euclidean(embeddings[i], p_embeddings[i]) for i in range(len(embeddings))]\n",
        "cosine_distances = [cosine(embeddings[i], p_embeddings[i]) for i in range(len(embeddings))]\n",
        "\n",
        "# Calculate average distance\n",
        "average_distance = np.mean(euclidean_distances)\n",
        "print(f'Average euclidean distance: {average_distance}')\n",
        "average_distance = np.mean(cosine_distances)\n",
        "print(f'Average cosine distance: {average_distance}')"
      ],
      "metadata": {
        "colab": {
          "base_uri": "https://localhost:8080/"
        },
        "id": "wH50a5Fcn6RJ",
        "outputId": "eced6c9d-c9a6-4712-8385-5c675252fc29"
      },
      "execution_count": 47,
      "outputs": [
        {
          "output_type": "stream",
          "name": "stdout",
          "text": [
            "Average euclidean distance: 0.11724937045643785\n",
            "Average cosine distance: 0.007475623013364708\n"
          ]
        }
      ]
    },
    {
      "cell_type": "markdown",
      "source": [
        "Lower values of distance suggest rather closer embeddings (i.e., the original and perturbed are rather similar). However, the interpretability of distance among embeddings in absolute terms is not straightforward. I can say though that I tried different k ratio of genes knocked out, and the distance increased with the number of knockouts.\n",
        "\n",
        "The cosine distance is very small, indicating that the original and knockout embeddings are highly aligned in terms of their orientation, which is also in lign with the observations in the UMAP representation."
      ],
      "metadata": {
        "id": "lVeg0LtopmPV"
      }
    },
    {
      "cell_type": "markdown",
      "source": [
        "## Classification task"
      ],
      "metadata": {
        "id": "liQ2DbpGm-oW"
      }
    },
    {
      "cell_type": "markdown",
      "source": [
        "\n",
        "This is a simple, 3-layer NN classifier of embeddings into perturbed and unperturbed samples. The previously generated embeddings for original and perturbed samples were split into training and test."
      ],
      "metadata": {
        "id": "Byo4yVfqnItr"
      }
    },
    {
      "cell_type": "code",
      "source": [
        "import torch\n",
        "import torch.nn as nn\n",
        "import torch.nn.functional as F\n",
        "from torch.utils.data import DataLoader, TensorDataset\n",
        "from sklearn.model_selection import train_test_split\n",
        "from sklearn.metrics import roc_auc_score"
      ],
      "metadata": {
        "id": "W9jYPT3ar41z"
      },
      "execution_count": 75,
      "outputs": []
    },
    {
      "cell_type": "code",
      "source": [
        "# Convert to tensor\n",
        "X = torch.tensor(combined_embeddings)\n",
        "y = torch.tensor(combined_labels, dtype=torch.long)\n",
        "\n",
        "# Train/Test Split\n",
        "X_train, X_test, y_train, y_test = train_test_split(X, y, test_size=0.2, random_state=42)\n",
        "\n",
        "# DataLoader\n",
        "train_dataset = TensorDataset(X_train, y_train)\n",
        "test_dataset = TensorDataset(X_test, y_test)\n",
        "train_loader = DataLoader(train_dataset, batch_size=32, shuffle=True)\n",
        "test_loader = DataLoader(test_dataset, batch_size=32, shuffle=False)"
      ],
      "metadata": {
        "id": "jcaD_tqRnFdl"
      },
      "execution_count": 49,
      "outputs": []
    },
    {
      "cell_type": "code",
      "source": [
        "# define model\n",
        "class MLP3l(torch.nn.Module):\n",
        "    def __init__(self, in_f, h1_f, h2_f, p_dropout, out_f=2):\n",
        "        super(MLP3l, self).__init__()\n",
        "        torch.manual_seed(42)\n",
        "        self.lin1 = nn.Linear(in_f, h1_f)\n",
        "        self.lin2 = nn.Linear(h1_f, h2_f)\n",
        "        self.lin3 = nn.Linear(h2_f, out_f)\n",
        "        self.bn1 = nn.BatchNorm1d(h1_f)\n",
        "        self.bn2 = nn.BatchNorm1d(h2_f)\n",
        "        self.p_dropout = p_dropout\n",
        "\n",
        "    def forward(self, x):\n",
        "        x = F.relu(self.lin1(x))\n",
        "        x = self.bn1(x)\n",
        "        x = F.dropout(x, p=self.p_dropout, training=self.training)\n",
        "        x = F.relu(self.lin2(x))\n",
        "        x = self.bn2(x)\n",
        "        x = F.dropout(x, p=self.p_dropout, training=self.training)\n",
        "        out = self.lin3(x)\n",
        "        return out\n"
      ],
      "metadata": {
        "id": "E8PAxh_FtAn0"
      },
      "execution_count": 64,
      "outputs": []
    },
    {
      "cell_type": "code",
      "source": [
        "# Initialize the model & config\n",
        "model = MLP3l(in_f=X.shape[1], h1_f=64, h2_f=128, p_dropout=0.2, out_f=2)\n",
        "criterion = torch.nn.CrossEntropyLoss()\n",
        "optimizer = torch.optim.Adam(model.parameters(), lr=0.002)\n",
        "n_epochs = 50"
      ],
      "metadata": {
        "id": "ZMKWbNNWs9-F"
      },
      "execution_count": 74,
      "outputs": []
    },
    {
      "cell_type": "code",
      "source": [
        "train_losses = []\n",
        "val_losses = []\n",
        "accuracies = []\n",
        "aucs = []\n",
        "model.to(device)\n",
        "\n",
        "for epoch in range(n_epochs):\n",
        "    model.train()\n",
        "    running_loss = 0.0\n",
        "    for batch_X, batch_y in train_loader:\n",
        "        batch_X, batch_y = batch_X.to(device), batch_y.to(device)\n",
        "        optimizer.zero_grad()\n",
        "        outputs = model(batch_X)\n",
        "        loss = criterion(outputs, batch_y)\n",
        "        loss.backward()\n",
        "        optimizer.step()\n",
        "        running_loss += loss.item()\n",
        "\n",
        "    train_loss = running_loss / len(train_loader)\n",
        "    train_losses.append(train_loss)\n",
        "\n",
        "    model.eval()\n",
        "    val_loss = 0.0\n",
        "    correct = 0\n",
        "    all_preds = []\n",
        "    all_labels = []\n",
        "    with torch.no_grad():\n",
        "        for batch_X, batch_y in test_loader:\n",
        "            batch_X, batch_y = batch_X.to(device), batch_y.to(device)\n",
        "            outputs = model(batch_X)\n",
        "            loss = criterion(outputs, batch_y)\n",
        "            val_loss += loss.item()\n",
        "            pred = outputs.argmax(dim=1, keepdim=True)\n",
        "            correct += pred.eq(batch_y.view_as(pred)).sum().item()\n",
        "            all_preds.extend(outputs[:, 1].cpu().numpy())  # Taking the predicted probability for class 1\n",
        "            all_labels.extend(batch_y.cpu().numpy())\n",
        "\n",
        "    val_loss /= len(test_loader)\n",
        "    val_losses.append(val_loss)\n",
        "    accuracy = 100. * correct / len(test_loader.dataset)\n",
        "    accuracies.append(accuracy)\n",
        "    auc = roc_auc_score(all_labels, all_preds)\n",
        "    aucs.append(auc)\n",
        "\n",
        "    print(f'Epoch {epoch+1}/{n_epochs}, Train Loss: {train_loss:.4f}, Val Loss: {val_loss:.4f}, AUC: {auc:.2f}%, Accuracy: {accuracy:.2f}%')"
      ],
      "metadata": {
        "colab": {
          "base_uri": "https://localhost:8080/"
        },
        "id": "whAkYW3Z2d5U",
        "outputId": "41a77e1b-b55a-4294-fd8b-0176bbb4ba83"
      },
      "execution_count": 80,
      "outputs": [
        {
          "output_type": "stream",
          "name": "stdout",
          "text": [
            "Epoch 1/50, Train Loss: 0.7030, Val Loss: 0.6970, AUC: 0.50%, Accuracy: 50.17%\n",
            "Epoch 2/50, Train Loss: 0.7017, Val Loss: 0.7020, AUC: 0.50%, Accuracy: 49.94%\n",
            "Epoch 3/50, Train Loss: 0.6993, Val Loss: 0.6966, AUC: 0.50%, Accuracy: 49.60%\n",
            "Epoch 4/50, Train Loss: 0.6991, Val Loss: 0.6989, AUC: 0.51%, Accuracy: 50.19%\n",
            "Epoch 5/50, Train Loss: 0.6972, Val Loss: 0.6999, AUC: 0.51%, Accuracy: 49.56%\n",
            "Epoch 6/50, Train Loss: 0.6970, Val Loss: 0.6971, AUC: 0.50%, Accuracy: 49.00%\n",
            "Epoch 7/50, Train Loss: 0.6961, Val Loss: 0.6969, AUC: 0.50%, Accuracy: 48.81%\n",
            "Epoch 8/50, Train Loss: 0.6949, Val Loss: 0.6943, AUC: 0.51%, Accuracy: 49.85%\n",
            "Epoch 9/50, Train Loss: 0.6950, Val Loss: 0.6954, AUC: 0.50%, Accuracy: 49.23%\n",
            "Epoch 10/50, Train Loss: 0.6945, Val Loss: 0.6938, AUC: 0.51%, Accuracy: 49.94%\n",
            "Epoch 11/50, Train Loss: 0.6941, Val Loss: 0.6948, AUC: 0.50%, Accuracy: 49.04%\n",
            "Epoch 12/50, Train Loss: 0.6936, Val Loss: 0.6941, AUC: 0.50%, Accuracy: 49.62%\n",
            "Epoch 13/50, Train Loss: 0.6936, Val Loss: 0.6940, AUC: 0.48%, Accuracy: 48.50%\n",
            "Epoch 14/50, Train Loss: 0.6936, Val Loss: 0.6933, AUC: 0.50%, Accuracy: 49.96%\n",
            "Epoch 15/50, Train Loss: 0.6935, Val Loss: 0.6944, AUC: 0.47%, Accuracy: 50.06%\n",
            "Epoch 16/50, Train Loss: 0.6934, Val Loss: 0.6943, AUC: 0.48%, Accuracy: 48.52%\n",
            "Epoch 17/50, Train Loss: 0.6935, Val Loss: 0.6940, AUC: 0.47%, Accuracy: 48.52%\n",
            "Epoch 18/50, Train Loss: 0.6935, Val Loss: 0.6941, AUC: 0.47%, Accuracy: 48.27%\n",
            "Epoch 19/50, Train Loss: 0.6933, Val Loss: 0.6943, AUC: 0.47%, Accuracy: 47.96%\n",
            "Epoch 20/50, Train Loss: 0.6936, Val Loss: 0.6944, AUC: 0.47%, Accuracy: 49.73%\n",
            "Epoch 21/50, Train Loss: 0.6933, Val Loss: 0.6946, AUC: 0.47%, Accuracy: 49.23%\n",
            "Epoch 22/50, Train Loss: 0.6934, Val Loss: 0.6959, AUC: 0.48%, Accuracy: 50.08%\n",
            "Epoch 23/50, Train Loss: 0.6936, Val Loss: 0.6950, AUC: 0.47%, Accuracy: 47.12%\n",
            "Epoch 24/50, Train Loss: 0.6932, Val Loss: 0.6963, AUC: 0.47%, Accuracy: 49.69%\n",
            "Epoch 25/50, Train Loss: 0.6934, Val Loss: 0.6960, AUC: 0.46%, Accuracy: 49.42%\n",
            "Epoch 26/50, Train Loss: 0.6935, Val Loss: 0.6947, AUC: 0.47%, Accuracy: 48.67%\n",
            "Epoch 27/50, Train Loss: 0.6933, Val Loss: 0.6947, AUC: 0.46%, Accuracy: 47.83%\n",
            "Epoch 28/50, Train Loss: 0.6935, Val Loss: 0.6940, AUC: 0.48%, Accuracy: 48.87%\n",
            "Epoch 29/50, Train Loss: 0.6936, Val Loss: 0.6951, AUC: 0.47%, Accuracy: 48.08%\n",
            "Epoch 30/50, Train Loss: 0.6932, Val Loss: 0.6941, AUC: 0.48%, Accuracy: 48.79%\n",
            "Epoch 31/50, Train Loss: 0.6931, Val Loss: 0.6947, AUC: 0.46%, Accuracy: 47.50%\n",
            "Epoch 32/50, Train Loss: 0.6934, Val Loss: 0.6946, AUC: 0.45%, Accuracy: 48.92%\n",
            "Epoch 33/50, Train Loss: 0.6935, Val Loss: 0.6950, AUC: 0.47%, Accuracy: 47.94%\n",
            "Epoch 34/50, Train Loss: 0.6935, Val Loss: 0.6951, AUC: 0.46%, Accuracy: 49.67%\n",
            "Epoch 35/50, Train Loss: 0.6933, Val Loss: 0.6957, AUC: 0.46%, Accuracy: 47.87%\n",
            "Epoch 36/50, Train Loss: 0.6933, Val Loss: 0.6959, AUC: 0.46%, Accuracy: 47.89%\n",
            "Epoch 37/50, Train Loss: 0.6932, Val Loss: 0.6960, AUC: 0.45%, Accuracy: 48.25%\n",
            "Epoch 38/50, Train Loss: 0.6930, Val Loss: 0.6943, AUC: 0.49%, Accuracy: 48.46%\n",
            "Epoch 39/50, Train Loss: 0.6934, Val Loss: 0.6956, AUC: 0.47%, Accuracy: 47.06%\n",
            "Epoch 40/50, Train Loss: 0.6932, Val Loss: 0.6979, AUC: 0.45%, Accuracy: 48.00%\n",
            "Epoch 41/50, Train Loss: 0.6932, Val Loss: 0.6953, AUC: 0.47%, Accuracy: 48.92%\n",
            "Epoch 42/50, Train Loss: 0.6933, Val Loss: 0.6987, AUC: 0.46%, Accuracy: 49.27%\n",
            "Epoch 43/50, Train Loss: 0.6934, Val Loss: 0.6994, AUC: 0.45%, Accuracy: 48.77%\n",
            "Epoch 44/50, Train Loss: 0.6935, Val Loss: 0.6959, AUC: 0.46%, Accuracy: 47.52%\n",
            "Epoch 45/50, Train Loss: 0.6933, Val Loss: 0.6953, AUC: 0.45%, Accuracy: 46.62%\n",
            "Epoch 46/50, Train Loss: 0.6930, Val Loss: 0.6951, AUC: 0.45%, Accuracy: 46.58%\n",
            "Epoch 47/50, Train Loss: 0.6932, Val Loss: 0.6955, AUC: 0.46%, Accuracy: 48.12%\n",
            "Epoch 48/50, Train Loss: 0.6932, Val Loss: 0.6960, AUC: 0.45%, Accuracy: 47.98%\n",
            "Epoch 49/50, Train Loss: 0.6933, Val Loss: 0.6953, AUC: 0.46%, Accuracy: 49.83%\n",
            "Epoch 50/50, Train Loss: 0.6934, Val Loss: 0.6946, AUC: 0.46%, Accuracy: 49.08%\n"
          ]
        }
      ]
    },
    {
      "cell_type": "code",
      "source": [
        "# Plotting training & val losses\n",
        "plt.figure(figsize=(10,5))\n",
        "plt.plot(range(1, n_epochs+1), train_losses, label='Train Loss')\n",
        "plt.plot(range(1, n_epochs+1), val_losses, label='Validation Loss')\n",
        "plt.xlabel('Epochs')\n",
        "plt.ylabel('Loss')\n",
        "plt.legend()\n",
        "plt.show()\n",
        "\n",
        "# Plotting Accuracy\n",
        "plt.figure(figsize=(10,5))\n",
        "plt.plot(range(1, n_epochs+1), accuracies, label='Accuracy')\n",
        "plt.xlabel('Epochs')\n",
        "plt.ylabel('Accuracy (%)')\n",
        "plt.legend()\n",
        "plt.show()"
      ],
      "metadata": {
        "colab": {
          "base_uri": "https://localhost:8080/",
          "height": 965
        },
        "id": "d3eCj2332fQQ",
        "outputId": "2210fe7f-51c9-471a-cf18-48e0f866ea53"
      },
      "execution_count": 81,
      "outputs": [
        {
          "output_type": "display_data",
          "data": {
            "text/plain": [
              "<Figure size 1000x500 with 1 Axes>"
            ],
            "image/png": "[encoded data removed]"
          },
          "metadata": {}
        },
        {
          "output_type": "display_data",
          "data": {
            "text/plain": [
              "<Figure size 1000x500 with 1 Axes>"
            ],
            "image/png": "[encoded data removed]"
          },
          "metadata": {}
        }
      ]
    }
  ]
}