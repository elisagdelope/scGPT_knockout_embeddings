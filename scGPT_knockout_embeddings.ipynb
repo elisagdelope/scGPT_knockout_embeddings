{
  "nbformat": 4,
  "nbformat_minor": 0,
  "metadata": {
    "colab": {
      "provenance": [],
      "gpuType": "T4"
    },
    "kernelspec": {
      "name": "python3",
      "display_name": "Python 3"
    },
    "language_info": {
      "name": "python"
    },
    "accelerator": "GPU"
  },
  "cells": [
    {
      "cell_type": "markdown",
      "source": [
        "Create a function to analyze the effect of gene knockouts on single-cell gene expression data using pre-trained foundation models. Compare embeddings before and after knockout and classify the samples."
      ],
      "metadata": {
        "id": "mHEcka0hJT9k"
      }
    },
    {
      "cell_type": "markdown",
      "source": [
        "The data we will work with through out different examples is a subset of the human PBMC, comprising 54,760 training cells and 13,690 test cells, with 16,906 genes across 11 distinct cell types. We have provided an automatic download link below (it checks if the file already exsists and dowloads it if not).\n",
        "\n"
      ],
      "metadata": {
        "id": "l7_--blGKI-V"
      }
    },
    {
      "cell_type": "markdown",
      "source": [
        "## Setup"
      ],
      "metadata": {
        "id": "YWX_hHEZlecd"
      }
    },
    {
      "cell_type": "code",
      "source": [
        "try:\n",
        "    import helical\n",
        "except:\n",
        "    !pip install git+https://github.com/helicalAI/helical.git |tail -n 1\n",
        "    !pip install numpy==1.23.5\n",
        "    import helical"
      ],
      "metadata": {
        "colab": {
          "base_uri": "https://localhost:8080/"
        },
        "id": "Vwh2y24PNgDz",
        "outputId": "425ac938-e3eb-4e1d-9d6d-b0f7c9ae37cb"
      },
      "execution_count": 1,
      "outputs": [
        {
          "output_type": "stream",
          "name": "stderr",
          "text": [
            "<frozen importlib._bootstrap>:914: ImportWarning: _PyDrive2ImportHook.find_spec() not found; falling back to find_module()\n",
            "<frozen importlib._bootstrap>:914: ImportWarning: _PyDriveImportHook.find_spec() not found; falling back to find_module()\n",
            "<frozen importlib._bootstrap>:914: ImportWarning: _GenerativeAIImportHook.find_spec() not found; falling back to find_module()\n",
            "<frozen importlib._bootstrap>:914: ImportWarning: _OpenCVImportHook.find_spec() not found; falling back to find_module()\n",
            "<frozen importlib._bootstrap>:914: ImportWarning: APICoreClientInfoImportHook.find_spec() not found; falling back to find_module()\n",
            "<frozen importlib._bootstrap>:914: ImportWarning: _BokehImportHook.find_spec() not found; falling back to find_module()\n",
            "<frozen importlib._bootstrap>:914: ImportWarning: _AltairImportHook.find_spec() not found; falling back to find_module()\n",
            "/usr/local/lib/python3.10/dist-packages/helical/models/scgpt/model_dir/multiomic_model.py:19: UserWarning: flash_attn is not installed\n",
            "  warnings.warn(\"flash_attn is not installed\")\n"
          ]
        }
      ]
    },
    {
      "cell_type": "code",
      "source": [
        "!pip install anndata torch transformers"
      ],
      "metadata": {
        "colab": {
          "base_uri": "https://localhost:8080/"
        },
        "id": "1oXvCa8wKfh-",
        "outputId": "26919ee7-7895-49b1-a1b3-58fc126acea6"
      },
      "execution_count": 2,
      "outputs": [
        {
          "output_type": "stream",
          "name": "stdout",
          "text": [
            "Collecting anndata\n",
            "  Downloading anndata-0.10.8-py3-none-any.whl.metadata (6.6 kB)\n",
            "Requirement already satisfied: torch in /usr/local/lib/python3.10/dist-packages (2.3.1+cu121)\n",
            "Requirement already satisfied: transformers in /usr/local/lib/python3.10/dist-packages (4.42.4)\n",
            "Collecting array-api-compat!=1.5,>1.4 (from anndata)\n",
            "  Downloading array_api_compat-1.8-py3-none-any.whl.metadata (1.5 kB)\n",
            "Requirement already satisfied: exceptiongroup in /usr/local/lib/python3.10/dist-packages (from anndata) (1.2.2)\n",
            "Requirement already satisfied: h5py>=3.1 in /usr/local/lib/python3.10/dist-packages (from anndata) (3.9.0)\n",
            "Requirement already satisfied: natsort in /usr/local/lib/python3.10/dist-packages (from anndata) (8.4.0)\n",
            "Requirement already satisfied: numpy>=1.23 in /usr/local/lib/python3.10/dist-packages (from anndata) (1.25.2)\n",
            "Requirement already satisfied: packaging>=20.0 in /usr/local/lib/python3.10/dist-packages (from anndata) (24.1)\n",
            "Requirement already satisfied: pandas!=2.1.0rc0,!=2.1.2,>=1.4 in /usr/local/lib/python3.10/dist-packages (from anndata) (2.0.3)\n",
            "Requirement already satisfied: scipy>1.8 in /usr/local/lib/python3.10/dist-packages (from anndata) (1.11.4)\n",
            "Requirement already satisfied: filelock in /usr/local/lib/python3.10/dist-packages (from torch) (3.15.4)\n",
            "Requirement already satisfied: typing-extensions>=4.8.0 in /usr/local/lib/python3.10/dist-packages (from torch) (4.12.2)\n",
            "Requirement already satisfied: sympy in /usr/local/lib/python3.10/dist-packages (from torch) (1.13.1)\n",
            "Requirement already satisfied: networkx in /usr/local/lib/python3.10/dist-packages (from torch) (3.3)\n",
            "Requirement already satisfied: jinja2 in /usr/local/lib/python3.10/dist-packages (from torch) (3.1.4)\n",
            "Requirement already satisfied: fsspec in /usr/local/lib/python3.10/dist-packages (from torch) (2023.6.0)\n",
            "Collecting nvidia-cuda-nvrtc-cu12==12.1.105 (from torch)\n",
            "  Using cached nvidia_cuda_nvrtc_cu12-12.1.105-py3-none-manylinux1_x86_64.whl.metadata (1.5 kB)\n",
            "Collecting nvidia-cuda-runtime-cu12==12.1.105 (from torch)\n",
            "  Using cached nvidia_cuda_runtime_cu12-12.1.105-py3-none-manylinux1_x86_64.whl.metadata (1.5 kB)\n",
            "Collecting nvidia-cuda-cupti-cu12==12.1.105 (from torch)\n",
            "  Using cached nvidia_cuda_cupti_cu12-12.1.105-py3-none-manylinux1_x86_64.whl.metadata (1.6 kB)\n",
            "Collecting nvidia-cudnn-cu12==8.9.2.26 (from torch)\n",
            "  Using cached nvidia_cudnn_cu12-8.9.2.26-py3-none-manylinux1_x86_64.whl.metadata (1.6 kB)\n",
            "Collecting nvidia-cublas-cu12==12.1.3.1 (from torch)\n",
            "  Using cached nvidia_cublas_cu12-12.1.3.1-py3-none-manylinux1_x86_64.whl.metadata (1.5 kB)\n",
            "Collecting nvidia-cufft-cu12==11.0.2.54 (from torch)\n",
            "  Using cached nvidia_cufft_cu12-11.0.2.54-py3-none-manylinux1_x86_64.whl.metadata (1.5 kB)\n",
            "Collecting nvidia-curand-cu12==10.3.2.106 (from torch)\n",
            "  Using cached nvidia_curand_cu12-10.3.2.106-py3-none-manylinux1_x86_64.whl.metadata (1.5 kB)\n",
            "Collecting nvidia-cusolver-cu12==11.4.5.107 (from torch)\n",
            "  Using cached nvidia_cusolver_cu12-11.4.5.107-py3-none-manylinux1_x86_64.whl.metadata (1.6 kB)\n",
            "Collecting nvidia-cusparse-cu12==12.1.0.106 (from torch)\n",
            "  Using cached nvidia_cusparse_cu12-12.1.0.106-py3-none-manylinux1_x86_64.whl.metadata (1.6 kB)\n",
            "Collecting nvidia-nccl-cu12==2.20.5 (from torch)\n",
            "  Using cached nvidia_nccl_cu12-2.20.5-py3-none-manylinux2014_x86_64.whl.metadata (1.8 kB)\n",
            "Collecting nvidia-nvtx-cu12==12.1.105 (from torch)\n",
            "  Using cached nvidia_nvtx_cu12-12.1.105-py3-none-manylinux1_x86_64.whl.metadata (1.7 kB)\n",
            "Requirement already satisfied: triton==2.3.1 in /usr/local/lib/python3.10/dist-packages (from torch) (2.3.1)\n",
            "Collecting nvidia-nvjitlink-cu12 (from nvidia-cusolver-cu12==11.4.5.107->torch)\n",
            "  Downloading nvidia_nvjitlink_cu12-12.5.82-py3-none-manylinux2014_x86_64.whl.metadata (1.5 kB)\n",
            "Requirement already satisfied: huggingface-hub<1.0,>=0.23.2 in /usr/local/lib/python3.10/dist-packages (from transformers) (0.23.5)\n",
            "Requirement already satisfied: pyyaml>=5.1 in /usr/local/lib/python3.10/dist-packages (from transformers) (6.0.1)\n",
            "Requirement already satisfied: regex!=2019.12.17 in /usr/local/lib/python3.10/dist-packages (from transformers) (2024.5.15)\n",
            "Requirement already satisfied: requests in /usr/local/lib/python3.10/dist-packages (from transformers) (2.31.0)\n",
            "Requirement already satisfied: safetensors>=0.4.1 in /usr/local/lib/python3.10/dist-packages (from transformers) (0.4.3)\n",
            "Requirement already satisfied: tokenizers<0.20,>=0.19 in /usr/local/lib/python3.10/dist-packages (from transformers) (0.19.1)\n",
            "Requirement already satisfied: tqdm>=4.27 in /usr/local/lib/python3.10/dist-packages (from transformers) (4.66.4)\n",
            "Requirement already satisfied: python-dateutil>=2.8.2 in /usr/local/lib/python3.10/dist-packages (from pandas!=2.1.0rc0,!=2.1.2,>=1.4->anndata) (2.8.2)\n",
            "Requirement already satisfied: pytz>=2020.1 in /usr/local/lib/python3.10/dist-packages (from pandas!=2.1.0rc0,!=2.1.2,>=1.4->anndata) (2023.4)\n",
            "Requirement already satisfied: tzdata>=2022.1 in /usr/local/lib/python3.10/dist-packages (from pandas!=2.1.0rc0,!=2.1.2,>=1.4->anndata) (2024.1)\n",
            "Requirement already satisfied: MarkupSafe>=2.0 in /usr/local/lib/python3.10/dist-packages (from jinja2->torch) (2.1.5)\n",
            "Requirement already satisfied: charset-normalizer<4,>=2 in /usr/local/lib/python3.10/dist-packages (from requests->transformers) (3.3.2)\n",
            "Requirement already satisfied: idna<4,>=2.5 in /usr/local/lib/python3.10/dist-packages (from requests->transformers) (3.7)\n",
            "Requirement already satisfied: urllib3<3,>=1.21.1 in /usr/local/lib/python3.10/dist-packages (from requests->transformers) (2.0.7)\n",
            "Requirement already satisfied: certifi>=2017.4.17 in /usr/local/lib/python3.10/dist-packages (from requests->transformers) (2024.7.4)\n",
            "Requirement already satisfied: mpmath<1.4,>=1.1.0 in /usr/local/lib/python3.10/dist-packages (from sympy->torch) (1.3.0)\n",
            "Requirement already satisfied: six>=1.5 in /usr/local/lib/python3.10/dist-packages (from python-dateutil>=2.8.2->pandas!=2.1.0rc0,!=2.1.2,>=1.4->anndata) (1.16.0)\n",
            "Downloading anndata-0.10.8-py3-none-any.whl (124 kB)\n",
            "\u001b[2K   \u001b[90m━━━━━━━━━━━━━━━━━━━━━━━━━━━━━━━━━━━━━━━━\u001b[0m \u001b[32m124.4/124.4 kB\u001b[0m \u001b[31m3.9 MB/s\u001b[0m eta \u001b[36m0:00:00\u001b[0m\n",
            "\u001b[?25hUsing cached nvidia_cublas_cu12-12.1.3.1-py3-none-manylinux1_x86_64.whl (410.6 MB)\n",
            "Using cached nvidia_cuda_cupti_cu12-12.1.105-py3-none-manylinux1_x86_64.whl (14.1 MB)\n",
            "Using cached nvidia_cuda_nvrtc_cu12-12.1.105-py3-none-manylinux1_x86_64.whl (23.7 MB)\n",
            "Using cached nvidia_cuda_runtime_cu12-12.1.105-py3-none-manylinux1_x86_64.whl (823 kB)\n",
            "Using cached nvidia_cudnn_cu12-8.9.2.26-py3-none-manylinux1_x86_64.whl (731.7 MB)\n",
            "Using cached nvidia_cufft_cu12-11.0.2.54-py3-none-manylinux1_x86_64.whl (121.6 MB)\n",
            "Using cached nvidia_curand_cu12-10.3.2.106-py3-none-manylinux1_x86_64.whl (56.5 MB)\n",
            "Using cached nvidia_cusolver_cu12-11.4.5.107-py3-none-manylinux1_x86_64.whl (124.2 MB)\n",
            "Using cached nvidia_cusparse_cu12-12.1.0.106-py3-none-manylinux1_x86_64.whl (196.0 MB)\n",
            "Using cached nvidia_nccl_cu12-2.20.5-py3-none-manylinux2014_x86_64.whl (176.2 MB)\n",
            "Using cached nvidia_nvtx_cu12-12.1.105-py3-none-manylinux1_x86_64.whl (99 kB)\n",
            "Downloading array_api_compat-1.8-py3-none-any.whl (38 kB)\n",
            "Downloading nvidia_nvjitlink_cu12-12.5.82-py3-none-manylinux2014_x86_64.whl (21.3 MB)\n",
            "\u001b[2K   \u001b[90m━━━━━━━━━━━━━━━━━━━━━━━━━━━━━━━━━━━━━━━━\u001b[0m \u001b[32m21.3/21.3 MB\u001b[0m \u001b[31m59.1 MB/s\u001b[0m eta \u001b[36m0:00:00\u001b[0m\n",
            "\u001b[?25hInstalling collected packages: array-api-compat, nvidia-nvtx-cu12, nvidia-nvjitlink-cu12, nvidia-nccl-cu12, nvidia-curand-cu12, nvidia-cufft-cu12, nvidia-cuda-runtime-cu12, nvidia-cuda-nvrtc-cu12, nvidia-cuda-cupti-cu12, nvidia-cublas-cu12, nvidia-cusparse-cu12, nvidia-cudnn-cu12, nvidia-cusolver-cu12, anndata\n",
            "Successfully installed anndata-0.10.8 array-api-compat-1.8 nvidia-cublas-cu12-12.1.3.1 nvidia-cuda-cupti-cu12-12.1.105 nvidia-cuda-nvrtc-cu12-12.1.105 nvidia-cuda-runtime-cu12-12.1.105 nvidia-cudnn-cu12-8.9.2.26 nvidia-cufft-cu12-11.0.2.54 nvidia-curand-cu12-10.3.2.106 nvidia-cusolver-cu12-11.4.5.107 nvidia-cusparse-cu12-12.1.0.106 nvidia-nccl-cu12-2.20.5 nvidia-nvjitlink-cu12-12.5.82 nvidia-nvtx-cu12-12.1.105\n"
          ]
        }
      ]
    },
    {
      "cell_type": "code",
      "execution_count": 2,
      "metadata": {
        "colab": {
          "base_uri": "https://localhost:8080/"
        },
        "id": "47YQclXeJS2Z",
        "outputId": "8213602e-2a08-43f5-8004-68e18cac3570"
      },
      "outputs": [
        {
          "output_type": "stream",
          "name": "stdout",
          "text": [
            "10k_pbmcs_proc.h5ad already exist. Skipping downloads.\n"
          ]
        },
        {
          "output_type": "stream",
          "name": "stderr",
          "text": [
            "/usr/local/lib/python3.10/dist-packages/ipykernel/ipkernel.py:283: DeprecationWarning: `should_run_async` will not call `transform_cell` automatically in the future. Please pass the result to `transformed_cell` argument and any exception that happen during thetransform in `preprocessing_exc_tuple` in IPython 7.17 and above.\n",
            "  and should_run_async(code)\n"
          ]
        }
      ],
      "source": [
        "import os\n",
        "import requests\n",
        "import anndata as ad\n",
        "import torch\n",
        "import numpy as np\n",
        "import umap\n",
        "import matplotlib.pyplot as plt\n",
        "from helical.models.scgpt.model import scGPT, scGPTConfig"
      ]
    },
    {
      "cell_type": "code",
      "source": [
        "device = \"cuda\" if torch.cuda.is_available() else \"cpu\"\n",
        "print(f\"Using device: {device}\")"
      ],
      "metadata": {
        "id": "rQWeJPB2l--s",
        "outputId": "b52d570e-a804-40b2-ec92-bb1f229d9a98",
        "colab": {
          "base_uri": "https://localhost:8080/"
        }
      },
      "execution_count": 87,
      "outputs": [
        {
          "output_type": "stream",
          "name": "stdout",
          "text": [
            "Using device: cuda\n"
          ]
        }
      ]
    },
    {
      "cell_type": "markdown",
      "source": [
        "## Load data and model"
      ],
      "metadata": {
        "id": "hCHRvy1FlmN7"
      }
    },
    {
      "cell_type": "code",
      "source": [
        "url = \"https://helicalpackage.blob.core.windows.net/helicalpackage/data/10k_pbmcs_proc.h5ad\"\n",
        "\n",
        "# Extract the filename and download the file\n",
        "filename = url.split(\"/\")[-1]\n",
        "\n",
        "# Check if the file already exists in the current directory\n",
        "if os.path.exists(filename):\n",
        "    print(f\"{filename} already exist. Skipping downloads.\")\n",
        "else:\n",
        "    response = requests.get(url)\n",
        "    if response.status_code == 200:\n",
        "        with open(filename, \"wb\") as file:\n",
        "            file.write(response.content)\n",
        "        print(f\"Downloaded {filename} successfully.\")\n",
        "    else:\n",
        "        print(f\"Failed to download {filename}.\")"
      ],
      "metadata": {
        "id": "qDglbiT_lk6Q"
      },
      "execution_count": null,
      "outputs": []
    },
    {
      "cell_type": "code",
      "source": [
        "# model is loaded from Helical\n",
        "scgpt_config = scGPTConfig(batch_size=50, device=device)\n",
        "scgpt = scGPT(configurer = scgpt_config)"
      ],
      "metadata": {
        "colab": {
          "base_uri": "https://localhost:8080/"
        },
        "id": "cIdYaInjOf0Y",
        "outputId": "e958df3d-1dae-4a8c-da49-91cb49207f5f"
      },
      "execution_count": 5,
      "outputs": [
        {
          "output_type": "stream",
          "name": "stderr",
          "text": [
            "Downloading: 100%|██████████| 1.32M/1.32M [00:00<00:00, 1.74MB/s]\n",
            "Downloading:  97%|█████████▋| 201M/208M [00:07<00:00, 97.0MB/s]sys:1: ResourceWarning: Unclosed socket <zmq.Socket(zmq.PUSH) at 0x78b34a7b7700>\n",
            "ResourceWarning: Enable tracemalloc to get the object allocation traceback\n",
            "sys:1: ResourceWarning: Unclosed socket <zmq.Socket(zmq.PUSH) at 0x78b34a7b6d40>\n",
            "ResourceWarning: Enable tracemalloc to get the object allocation traceback\n",
            "sys:1: ResourceWarning: Unclosed socket <zmq.Socket(zmq.PUSH) at 0x78b34a7b63e0>\n",
            "ResourceWarning: Enable tracemalloc to get the object allocation traceback\n",
            "sys:1: ResourceWarning: Unclosed socket <zmq.Socket(zmq.PUSH) at 0x78b34a7b6c80>\n",
            "ResourceWarning: Enable tracemalloc to get the object allocation traceback\n",
            "sys:1: ResourceWarning: Unclosed socket <zmq.Socket(zmq.PUSH) at 0x78b34a7b5660>\n",
            "ResourceWarning: Enable tracemalloc to get the object allocation traceback\n",
            "sys:1: ResourceWarning: Unclosed socket <zmq.Socket(zmq.PUSH) at 0x78b34a7b6020>\n",
            "ResourceWarning: Enable tracemalloc to get the object allocation traceback\n",
            "sys:1: ResourceWarning: Unclosed socket <zmq.Socket(zmq.PUSH) at 0x78b343bf22c0>\n",
            "ResourceWarning: Enable tracemalloc to get the object allocation traceback\n",
            "sys:1: ResourceWarning: Unclosed socket <zmq.Socket(zmq.PUSH) at 0x78b34a7b7460>\n",
            "ResourceWarning: Enable tracemalloc to get the object allocation traceback\n",
            "sys:1: ResourceWarning: Unclosed socket <zmq.Socket(zmq.PUSH) at 0x78b34a7b4e80>\n",
            "ResourceWarning: Enable tracemalloc to get the object allocation traceback\n",
            "sys:1: ResourceWarning: Unclosed socket <zmq.Socket(zmq.PUSH) at 0x78b34a7b6bc0>\n",
            "ResourceWarning: Enable tracemalloc to get the object allocation traceback\n",
            "sys:1: ResourceWarning: Unclosed socket <zmq.Socket(zmq.PUSH) at 0x78b34a7b7a00>\n",
            "ResourceWarning: Enable tracemalloc to get the object allocation traceback\n",
            "sys:1: ResourceWarning: Unclosed socket <zmq.Socket(zmq.PUSH) at 0x78b34a7b7ac0>\n",
            "ResourceWarning: Enable tracemalloc to get the object allocation traceback\n",
            "sys:1: ResourceWarning: Unclosed socket <zmq.Socket(zmq.PUSH) at 0x78b34a7b5060>\n",
            "ResourceWarning: Enable tracemalloc to get the object allocation traceback\n",
            "sys:1: ResourceWarning: Unclosed socket <zmq.Socket(zmq.PUSH) at 0x78b34a7b50c0>\n",
            "ResourceWarning: Enable tracemalloc to get the object allocation traceback\n",
            "sys:1: ResourceWarning: Unclosed socket <zmq.Socket(zmq.PUSH) at 0x78b34a7b5480>\n",
            "ResourceWarning: Enable tracemalloc to get the object allocation traceback\n",
            "sys:1: ResourceWarning: Unclosed socket <zmq.Socket(zmq.PUSH) at 0x78b34a7b4dc0>\n",
            "ResourceWarning: Enable tracemalloc to get the object allocation traceback\n",
            "sys:1: ResourceWarning: Unclosed socket <zmq.Socket(zmq.PUSH) at 0x78b34a7b4700>\n",
            "ResourceWarning: Enable tracemalloc to get the object allocation traceback\n",
            "sys:1: ResourceWarning: Unclosed socket <zmq.Socket(zmq.PUSH) at 0x78b34a7b5600>\n",
            "ResourceWarning: Enable tracemalloc to get the object allocation traceback\n",
            "sys:1: ResourceWarning: Unclosed socket <zmq.Socket(zmq.PUSH) at 0x78b34a7b5f00>\n",
            "ResourceWarning: Enable tracemalloc to get the object allocation traceback\n",
            "sys:1: ResourceWarning: Unclosed socket <zmq.Socket(zmq.PUSH) at 0x78b340282020>\n",
            "ResourceWarning: Enable tracemalloc to get the object allocation traceback\n",
            "sys:1: ResourceWarning: Unclosed socket <zmq.Socket(zmq.PUSH) at 0x78b34a7b6e60>\n",
            "ResourceWarning: Enable tracemalloc to get the object allocation traceback\n",
            "sys:1: ResourceWarning: Unclosed socket <zmq.Socket(zmq.PUSH) at 0x78b34a7b5180>\n",
            "ResourceWarning: Enable tracemalloc to get the object allocation traceback\n",
            "sys:1: ResourceWarning: Unclosed socket <zmq.Socket(zmq.PUSH) at 0x78b34a7b7c40>\n",
            "ResourceWarning: Enable tracemalloc to get the object allocation traceback\n",
            "Downloading: 100%|██████████| 208M/208M [00:07<00:00, 26.8MB/s]\n"
          ]
        }
      ]
    },
    {
      "cell_type": "code",
      "source": [
        "# load data\n",
        "ann_data = ad.read_h5ad(\"10k_pbmcs_proc.h5ad\")\n",
        "ann_data"
      ],
      "metadata": {
        "colab": {
          "base_uri": "https://localhost:8080/"
        },
        "id": "Ot5yOJhOKSus",
        "outputId": "c413634e-1556-42ac-99e5-c8dc37d2825e"
      },
      "execution_count": 7,
      "outputs": [
        {
          "output_type": "execute_result",
          "data": {
            "text/plain": [
              "AnnData object with n_obs × n_vars = 11990 × 12000\n",
              "    obs: 'n_counts', 'batch', 'labels', 'str_labels', 'cell_type'\n",
              "    var: 'gene_symbols', 'n_counts-0', 'n_counts-1', 'n_counts', 'highly_variable', 'highly_variable_rank', 'means', 'variances', 'variances_norm'\n",
              "    uns: 'cell_types', 'hvg'\n",
              "    obsm: 'design', 'normalized_qc', 'qc_pc', 'raw_qc'"
            ]
          },
          "metadata": {},
          "execution_count": 7
        }
      ]
    },
    {
      "cell_type": "code",
      "source": [
        "# if from HF (placeholders)\n",
        "# from transformers import AutoModel, AutoTokenizer\n",
        "# model = AutoModel.from_pretrained(model_name)\n",
        "# tokenizer = AutoTokenizer.from_pretrained(model_name)\n",
        "# data = ann_data.X.toarray()\n",
        "# # check data format (padding? truncation?)\n",
        "# inputs = tokenizer(data, return_tensors='pt', padding=True, truncation=True)\n",
        "# # get embeddings\n",
        "# with torch.no_grad():\n",
        "#     outputs = model(**inputs)\n",
        "# # assuming the model outputs embeddings in the last hidden state\n",
        "# embeddings = outputs.last_hidden_state.mean(dim=1).numpy()\n"
      ],
      "metadata": {
        "id": "bz3MDCWASlUe"
      },
      "execution_count": null,
      "outputs": []
    },
    {
      "cell_type": "markdown",
      "source": [
        "## Apply knockout perturbation & generate embeddings"
      ],
      "metadata": {
        "id": "lmwvrI9SmVW8"
      }
    },
    {
      "cell_type": "code",
      "source": [
        "# let's knockout 50% of genes (random, first k genes)\n",
        "k=0.5\n",
        "kgenes = ann_data.var[\"gene_symbols\"][0:int(len(ann_data.var[\"gene_symbols\"])*k)].to_list()\n",
        "print(len(kgenes)) # 6000\n",
        "print(kgenes[0:10])"
      ],
      "metadata": {
        "id": "4LycDwBpTi2p",
        "outputId": "fb45ce60-7f4b-48ec-acbc-c9296d38bbe9",
        "colab": {
          "base_uri": "https://localhost:8080/"
        }
      },
      "execution_count": 59,
      "outputs": [
        {
          "output_type": "stream",
          "name": "stdout",
          "text": [
            "6000\n",
            "['SAMD11', 'PLEKHN1', 'HES4', 'ISG15', 'AGRN', 'C1orf159', 'TTLL10', 'TNFRSF18', 'TNFRSF4', 'SDF4']\n"
          ]
        }
      ]
    },
    {
      "cell_type": "code",
      "source": [
        "# To knockout a gene in the context of genomics => its gene expression is 0\n",
        "def perturb_data(ann_data, kgenes):\n",
        "    perturbed_ann_data = ann_data.copy()\n",
        "    gene_indices = [ann_data.var_names.get_loc(gene) for gene in kgenes]\n",
        "    perturbed_ann_data.X[:, gene_indices] = 0\n",
        "    return perturbed_ann_data\n",
        "\n",
        "# Create perturbed data\n",
        "p_ann_data = perturb_data(ann_data, kgenes)\n",
        "p_ann_data"
      ],
      "metadata": {
        "id": "9kMBj6rhYF62",
        "outputId": "08d76625-61f3-4b27-9e72-895cd6218e26",
        "colab": {
          "base_uri": "https://localhost:8080/"
        }
      },
      "execution_count": 60,
      "outputs": [
        {
          "output_type": "stream",
          "name": "stderr",
          "text": [
            "/usr/local/lib/python3.10/dist-packages/scipy/sparse/_index.py:151: SparseEfficiencyWarning: Changing the sparsity structure of a csr_matrix is expensive. lil_matrix is more efficient.\n",
            "  self._set_arrayXarray(i, j, x)\n"
          ]
        },
        {
          "output_type": "execute_result",
          "data": {
            "text/plain": [
              "AnnData object with n_obs × n_vars = 11990 × 12000\n",
              "    obs: 'n_counts', 'batch', 'labels', 'str_labels', 'cell_type', 'total_counts'\n",
              "    var: 'gene_symbols', 'n_counts-0', 'n_counts-1', 'n_counts', 'highly_variable', 'highly_variable_rank', 'means', 'variances', 'variances_norm', 'id_in_vocab'\n",
              "    uns: 'cell_types', 'hvg'\n",
              "    obsm: 'design', 'normalized_qc', 'qc_pc', 'raw_qc'"
            ]
          },
          "metadata": {},
          "execution_count": 60
        }
      ]
    },
    {
      "cell_type": "code",
      "source": [
        "# generate embeddings\n",
        "dataset = scgpt.process_data(ann_data, gene_names=\"gene_symbols\")\n",
        "p_dataset = scgpt.process_data(p_ann_data, gene_names=\"gene_symbols\")\n",
        "\n",
        "embeddings = scgpt.get_embeddings(dataset)\n",
        "p_embeddings = scgpt.get_embeddings(p_dataset)\n",
        "print(embeddings.shape)\n",
        "print(p_embeddings.shape)"
      ],
      "metadata": {
        "colab": {
          "base_uri": "https://localhost:8080/"
        },
        "id": "4cYc1bFkQr5v",
        "outputId": "1756b65c-b2f7-421d-f3ef-1976c9135103"
      },
      "execution_count": 61,
      "outputs": [
        {
          "output_type": "stream",
          "name": "stderr",
          "text": [
            "Embedding cells: 100%|██████████| 240/240 [02:04<00:00,  1.93it/s]\n",
            "Embedding cells: 100%|██████████| 240/240 [01:41<00:00,  2.35it/s]"
          ]
        },
        {
          "output_type": "stream",
          "name": "stdout",
          "text": [
            "(11990, 512)\n",
            "(11990, 512)\n"
          ]
        },
        {
          "output_type": "stream",
          "name": "stderr",
          "text": [
            "\n"
          ]
        }
      ]
    },
    {
      "cell_type": "markdown",
      "source": [
        "## Visualization of original and perturbed embeddings\n",
        "*Plot and compare the embeddings.*\n",
        "\n",
        "*Measure similarity and describe the impact of gene knockouts.*"
      ],
      "metadata": {
        "id": "axzAhBxglTI1"
      }
    },
    {
      "cell_type": "code",
      "source": [
        "# Generate labels: 0 for original, 1 for perturbed\n",
        "original_labels = np.zeros(embeddings.shape[0])\n",
        "perturbed_labels = np.ones(p_embeddings.shape[0])\n",
        "\n",
        "# Combine embeddings and labels\n",
        "combined_embeddings = np.vstack((embeddings, p_embeddings))\n",
        "combined_labels = np.concatenate((original_labels, perturbed_labels))\n",
        "print(combined_embeddings.shape)\n",
        "print(combined_labels.shape)"
      ],
      "metadata": {
        "id": "mL-p0K2PeUAz",
        "outputId": "5d580ffb-79a6-44f4-8ee3-54cb82b1572d",
        "colab": {
          "base_uri": "https://localhost:8080/"
        }
      },
      "execution_count": 63,
      "outputs": [
        {
          "output_type": "stream",
          "name": "stdout",
          "text": [
            "(23980, 512)\n",
            "(23980,)\n"
          ]
        }
      ]
    },
    {
      "cell_type": "code",
      "source": [
        "# visualize embeddings through UMAP 2-dim-reduced representation\n",
        "umap_reducer = umap.UMAP(n_components=2, random_state=42)\n",
        "umap_rep = umap_reducer.fit_transform(combined_embeddings)"
      ],
      "metadata": {
        "id": "XzobpyGzdAIP",
        "outputId": "73a298db-bb7a-4ca6-eed4-99076dac3ad9",
        "colab": {
          "base_uri": "https://localhost:8080/"
        }
      },
      "execution_count": 64,
      "outputs": [
        {
          "output_type": "stream",
          "name": "stderr",
          "text": [
            "/usr/local/lib/python3.10/dist-packages/umap/umap_.py:1945: UserWarning: n_jobs value 1 overridden to 1 by setting random_state. Use no seed for parallelism.\n",
            "  warn(f\"n_jobs value {self.n_jobs} overridden to 1 by setting random_state. Use no seed for parallelism.\")\n"
          ]
        }
      ]
    },
    {
      "cell_type": "code",
      "source": [
        "# plot UMAP\n",
        "plt.figure(figsize=(10, 7))\n",
        "plt.scatter(umap_rep[combined_labels == 0, 0], umap_rep[combined_labels == 0, 1], label='Original embeddings', alpha=0.65)\n",
        "plt.scatter(umap_rep[combined_labels == 1, 0], umap_rep[combined_labels == 1, 1], label='Perturbed embeddings', alpha=0.65)\n",
        "plt.xlabel('UMAP dim1')\n",
        "plt.ylabel('UMAP dim2')\n",
        "plt.legend()\n",
        "plt.title('UMAP of original and perturbed mbeddings')\n",
        "plt.show()\n"
      ],
      "metadata": {
        "id": "G3bIoU3Pg6KJ",
        "outputId": "f39a0eba-b193-4fb0-e820-7df2ed0bf2b1",
        "colab": {
          "base_uri": "https://localhost:8080/",
          "height": 641
        }
      },
      "execution_count": 86,
      "outputs": [
        {
          "output_type": "display_data",
          "data": {
            "text/plain": [
              "<Figure size 1000x700 with 1 Axes>"
            ],
            "image/png": "[encoded data removed]"
          },
          "metadata": {}
        }
      ]
    },
    {
      "cell_type": "markdown",
      "source": [
        "Visually, it seems that the knockouts have little impact in the embeddings. Let's see with the euclidean and cosine distances:"
      ],
      "metadata": {
        "id": "o51P2IZUnxIB"
      }
    },
    {
      "cell_type": "code",
      "source": [
        "from scipy.spatial.distance import euclidean, cosine\n",
        "\n",
        "# Calculate pairwise distances\n",
        "euclidean_distances = [euclidean(embeddings[i], p_embeddings[i]) for i in range(len(embeddings))]\n",
        "cosine_distances = [cosine(embeddings[i], p_embeddings[i]) for i in range(len(embeddings))]\n",
        "\n",
        "# Calculate average distance\n",
        "average_distance = np.mean(euclidean_distances)\n",
        "print(f'Average euclidean distance: {average_distance}')\n",
        "average_distance = np.mean(cosine_distances)\n",
        "print(f'Average cosine distance: {average_distance}')"
      ],
      "metadata": {
        "id": "wH50a5Fcn6RJ",
        "outputId": "aa3a4a44-1e4a-4354-c7c3-7b559f676d96",
        "colab": {
          "base_uri": "https://localhost:8080/"
        }
      },
      "execution_count": 91,
      "outputs": [
        {
          "output_type": "stream",
          "name": "stdout",
          "text": [
            "Average euclidean distance: 0.21764454159068505\n",
            "Average cosine distance: 0.024891844058348458\n"
          ]
        }
      ]
    },
    {
      "cell_type": "markdown",
      "source": [
        "Lower values of distance suggest closer (i.e., more similar) embeddings between the original and perturbed ones. However, the interpretability of distance among embeddings in absolute terms is not straightforward. I can say though that I tried different k ratio of genes knocked out, and the distance increased with the number of knockouts.\n",
        "\n",
        "The cosine distance is very small, indicating that the original and knockout embeddings are highly aligned in terms of their orientation, which also aligns with what is seen in the UMAP representation."
      ],
      "metadata": {
        "id": "lVeg0LtopmPV"
      }
    },
    {
      "cell_type": "markdown",
      "source": [
        "## Classification task"
      ],
      "metadata": {
        "id": "liQ2DbpGm-oW"
      }
    },
    {
      "cell_type": "markdown",
      "source": [
        "*Build a simple neural network (or other classifier) to classify the embeddings into perturbed and unperturbed samples (based on the ones you just created)*"
      ],
      "metadata": {
        "id": "Byo4yVfqnItr"
      }
    },
    {
      "cell_type": "code",
      "source": [
        "import torch\n",
        "import torch.nn as nn\n",
        "import torch.nn.functional as F\n",
        "from torch.utils.data import DataLoader, TensorDataset\n",
        "from sklearn.model_selection import train_test_split\n"
      ],
      "metadata": {
        "id": "W9jYPT3ar41z"
      },
      "execution_count": 122,
      "outputs": []
    },
    {
      "cell_type": "code",
      "source": [
        "# Convert to tensor\n",
        "X = torch.tensor(combined_embeddings)\n",
        "y = torch.tensor(combined_labels, dtype=torch.long)\n",
        "\n",
        "# Train/Test Split\n",
        "X_train, X_test, y_train, y_test = train_test_split(X, y, test_size=0.2, random_state=42)\n",
        "\n",
        "# DataLoader\n",
        "train_dataset = TensorDataset(X_train, y_train)\n",
        "test_dataset = TensorDataset(X_test, y_test)\n",
        "train_loader = DataLoader(train_dataset, batch_size=32, shuffle=True)\n",
        "test_loader = DataLoader(test_dataset, batch_size=32, shuffle=False)"
      ],
      "metadata": {
        "id": "jcaD_tqRnFdl"
      },
      "execution_count": 123,
      "outputs": []
    },
    {
      "cell_type": "code",
      "source": [
        "# define model\n",
        "class MLP3l(torch.nn.Module):\n",
        "    def __init__(self, in_f, h1_f, h2_f, p_dropout, out_f=2):\n",
        "        super(MLP3l, self).__init__()\n",
        "        torch.manual_seed(42)\n",
        "        self.lin1 = nn.Linear(in_f, h1_f)\n",
        "        self.lin2 = nn.Linear(h1_f, h2_f)\n",
        "        self.lin3 = nn.Linear(h2_f, out_f)\n",
        "        self.bn1 = nn.BatchNorm1d(h1_f)\n",
        "        self.bn2 = nn.BatchNorm1d(h2_f)\n",
        "        self.p_dropout = p_dropout\n",
        "\n",
        "    def forward(self, x):\n",
        "        x = F.relu(self.lin1(x))\n",
        "        x = self.bn1(x)\n",
        "        x = F.dropout(x, p=self.p_dropout, training=self.training)\n",
        "        x = F.relu(self.lin2(x))\n",
        "        x = self.bn2(x)\n",
        "        x = F.dropout(x, p=self.p_dropout, training=self.training)\n",
        "        out = self.lin3(x)\n",
        "        return out\n"
      ],
      "metadata": {
        "id": "E8PAxh_FtAn0"
      },
      "execution_count": 124,
      "outputs": []
    },
    {
      "cell_type": "code",
      "source": [
        "# Initialize the model & config\n",
        "model = MLP3l(in_f=X.shape[1], h1_f=64, h2_f=128, p_dropout=0.2, out_f=2)\n",
        "criterion = torch.nn.CrossEntropyLoss()\n",
        "optimizer = torch.optim.Adam(model.parameters(), lr=0.001)\n",
        "n_epochs = 50"
      ],
      "metadata": {
        "id": "ZMKWbNNWs9-F"
      },
      "execution_count": 125,
      "outputs": []
    },
    {
      "cell_type": "code",
      "source": [
        "n_epochs = 10\n",
        "for epoch in range(n_epochs):\n",
        "    # training\n",
        "    model.train()\n",
        "    for batch_X, batch_y in train_loader:\n",
        "        optimizer.zero_grad()\n",
        "        outputs = model(batch_X)\n",
        "        loss = criterion(outputs, batch_y)\n",
        "        loss.backward()\n",
        "        optimizer.step()\n",
        "\n",
        "    # validation\n",
        "    model.eval()\n",
        "    val_loss = 0\n",
        "    correct = 0\n",
        "    with torch.no_grad():\n",
        "        for batch_X, batch_y in test_loader:\n",
        "            outputs = model(batch_X)\n",
        "            val_loss += criterion(outputs, batch_y).item()\n",
        "            pred = outputs.argmax(dim=1, keepdim=True)\n",
        "            correct += pred.eq(batch_y.view_as(pred)).sum().item()\n",
        "\n",
        "    val_loss = val_loss / len(test_loader.dataset)\n",
        "    accuracy = 100. * correct / len(test_loader.dataset)\n",
        "\n",
        "    print(f'Epoch {epoch+1}, Loss: {loss.item()}, Val Loss: {val_loss}, Accuracy: {accuracy}%')"
      ],
      "metadata": {
        "id": "BZfgnjmxw0XJ",
        "outputId": "68280012-8269-47cb-ca32-54068c68acb0",
        "colab": {
          "base_uri": "https://localhost:8080/"
        }
      },
      "execution_count": 130,
      "outputs": [
        {
          "output_type": "stream",
          "name": "stdout",
          "text": [
            "Epoch 1, Loss: 0.0003619226044975221, Val Loss: 0.0001927463230332752, Accuracy: 99.77064220183486%\n",
            "Epoch 2, Loss: 0.005524088628590107, Val Loss: 0.00041012190932641874, Accuracy: 99.52043369474562%\n",
            "Epoch 3, Loss: 0.0030903650913387537, Val Loss: 0.00021226392578270215, Accuracy: 99.81234361968306%\n",
            "Epoch 4, Loss: 0.00450325571000576, Val Loss: 0.00019214774851945862, Accuracy: 99.85404503753128%\n",
            "Epoch 5, Loss: 0.0010147213470190763, Val Loss: 0.0002480742476320174, Accuracy: 99.77064220183486%\n",
            "Epoch 6, Loss: 0.06431294977664948, Val Loss: 0.0001486507333840512, Accuracy: 99.89574645537948%\n",
            "Epoch 7, Loss: 0.05072230100631714, Val Loss: 0.00016189743602157617, Accuracy: 99.89574645537948%\n",
            "Epoch 8, Loss: 0.00652399891987443, Val Loss: 0.0005892204676149248, Accuracy: 99.4161801501251%\n",
            "Epoch 9, Loss: 6.321325054159388e-05, Val Loss: 0.00036703550826370596, Accuracy: 99.83319432860718%\n",
            "Epoch 10, Loss: 0.0007552737952210009, Val Loss: 0.0002406477112562576, Accuracy: 99.77064220183486%\n"
          ]
        }
      ]
    }
  ]
}